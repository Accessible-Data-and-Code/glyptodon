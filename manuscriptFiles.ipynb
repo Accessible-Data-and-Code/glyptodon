{
 "cells": [
  {
   "cell_type": "markdown",
   "metadata": {},
   "source": [
    "# manuscriptFiles\n",
    "\n",
    "> This module has commands to handle the manuscript file structure and relates the annotation application to files saved in the manuscripts folder"
   ]
  },
  {
   "cell_type": "code",
   "execution_count": 1,
   "metadata": {
    "tags": []
   },
   "outputs": [],
   "source": [
    "#| default_exp manuscriptFiles"
   ]
  },
  {
   "cell_type": "code",
   "execution_count": 2,
   "metadata": {
    "tags": []
   },
   "outputs": [],
   "source": [
    "#| hide\n",
    "from nbdev.showdoc import *"
   ]
  },
  {
   "cell_type": "code",
   "execution_count": 3,
   "metadata": {
    "tags": []
   },
   "outputs": [],
   "source": [
    "#| export\n",
    "import os\n",
    "import io\n",
    "import cv2\n",
    "import numpy as np"
   ]
  },
  {
   "cell_type": "markdown",
   "metadata": {},
   "source": [
    "## createManuscriptDirectory\n",
    "\n",
    "The ```createManuscriptDirectory``` function creates a new manuscript directory from scratch, including:\n",
    "- a manuscript image folder\n",
    "- an annotation states folder\n",
    "- a metadata file\n",
    "- a folder for exported transcriptions\n",
    "- a folder for imported transcriptions\n",
    "\n",
    "This function relies on two methods: ```directoryNameClean``` and ```dictToList```. These are simple calls for simple purposes, but just complicated enough to warrant their own functions for future optimizations."
   ]
  },
  {
   "cell_type": "code",
   "execution_count": 4,
   "metadata": {
    "tags": []
   },
   "outputs": [],
   "source": [
    "#| export\n",
    "def createManuscriptDirectory(metadata:dict):\n",
    "    # This function creates a directory and metadata file for a new manuscript and returns the new manuscript root directory\n",
    "    \n",
    "    # Establishing the baseDirectory the web app is running in\n",
    "    baseDirectory = os.getcwd()\n",
    "    os.chdir('manuscripts')\n",
    "    allManuscriptsDirectory = os.getcwd()\n",
    "\n",
    "    # Creating the root directory for a new manuscript\n",
    "    title = directoryNameClean(metadata['Work'])\n",
    "    manuscriptDirectory = os.path.join(allManuscriptsDirectory,title)\n",
    "    os.mkdir(manuscriptDirectory)\n",
    "    \n",
    "    # Creating directories\n",
    "    imagesDirectory = os.path.join(manuscriptDirectory,'images')\n",
    "    os.mkdir(imagesDirectory)\n",
    "    statesDirectory = os.path.join(manuscriptDirectory,'states')\n",
    "    os.mkdir(statesDirectory)\n",
    "    exportTranscriptDirectory = os.path.join(manuscriptDirectory,'exportTranscripts')\n",
    "    os.mkdir(exportTranscriptDirectory)\n",
    "    importTranscriptDirectory = os.path.join(manuscriptDirectory,'importTranscripts')\n",
    "    os.mkdir(importTranscriptDirectory)\n",
    "    \n",
    "    # Creating metadata file as config file\n",
    "    os.chdir(manuscriptDirectory)\n",
    "    f = open(title + '.cfg', 'w')\n",
    "    \n",
    "    # Writes relevant metadata to file\n",
    "    printable = dictToList(metadata)\n",
    "    for data in printable:\n",
    "        f.write(data + '\\n')\n",
    "    \n",
    "    os.chdir(baseDirectory)\n",
    "    \n",
    "    return manuscriptDirectory"
   ]
  },
  {
   "cell_type": "code",
   "execution_count": 87,
   "metadata": {
    "tags": []
   },
   "outputs": [
    {
     "data": {
      "text/plain": [
       "'/home/dc/glyptodon/manuscripts/stvrnktmnstrygrkcllctnn.53'"
      ]
     },
     "execution_count": 87,
     "metadata": {},
     "output_type": "execute_result"
    }
   ],
   "source": [
    "# Testing on a real world example\n",
    "Stav53 = {\n",
    "    'Work': 'Stavronikita Monastery Greek handwritten document Collection no.53',\n",
    "    'Author': '',\n",
    "    'Language': 'Greek',\n",
    "    'Country': 'Greece',\n",
    "    'City': 'Mount Athos',\n",
    "    'Institution': 'Stavronikita Monastery',\n",
    "    'Centuries': '14th Century'\n",
    "}\n",
    "\n",
    "createManuscriptDirectory(Stav53)"
   ]
  },
  {
   "cell_type": "markdown",
   "metadata": {},
   "source": [
    "## dictToList\n",
    "\n",
    "The ```dictToList``` function creates a printable list out of a dictionary that keeps keys separate from the items stored to them and creates a list that can be printed to a file, specifically the manuscript ```title.cfg``` file."
   ]
  },
  {
   "cell_type": "code",
   "execution_count": 6,
   "metadata": {
    "tags": []
   },
   "outputs": [],
   "source": [
    "#| export\n",
    "def dictToList(thisdict:dict):\n",
    "    # This function turns a dictionary into a list of printable strings\n",
    "    keys = []\n",
    "    for key in thisdict.keys():\n",
    "        keys.append(key)\n",
    "\n",
    "    values = []\n",
    "    for value in thisdict.values():\n",
    "        values.append(value)\n",
    "    \n",
    "    printable = []\n",
    "    for i in range(len(keys)):\n",
    "        printable.append(str(keys[i]) + ':' + str(values[i]))\n",
    "    \n",
    "    return printable"
   ]
  },
  {
   "cell_type": "code",
   "execution_count": 7,
   "metadata": {
    "tags": []
   },
   "outputs": [
    {
     "name": "stdout",
     "output_type": "stream",
     "text": [
      "brand:Ford\n",
      "model:Mustang\n",
      "year:1964\n"
     ]
    }
   ],
   "source": [
    "# Testing dictToList\n",
    "\n",
    "thisdict = {\n",
    "  \"brand\": \"Ford\",\n",
    "  \"model\": \"Mustang\",\n",
    "  \"year\": 1964\n",
    "}\n",
    "\n",
    "printable = dictToList(thisdict)\n",
    "\n",
    "for i in range(len(printable)):\n",
    "    print(printable[i])"
   ]
  },
  {
   "cell_type": "markdown",
   "metadata": {},
   "source": [
    "## directoryNameClean\n",
    "\n",
    "The ```directoryNameClean``` function removes the characters from a string that are not allowed characters for a directory name and shortens the name. It is called in other manuscript file methods and is indirectly used to generate a folder key for the select manuscripts. It cuts down the length of the title to no more than 26 characters to avoid creating excessively long directory titles and surpassing the 260 character limit. While it is unlikely for the path limit to be reached, caution is good. It proceeds in this order:\n",
    "- Remove words that are not capitalized at the beginning or are not numerical\n",
    "- Remove illegal characters\n",
    "- If name length is greater than 26:\n",
    "  - Remove vowels\n",
    "  - Remove trailing characters"
   ]
  },
  {
   "cell_type": "code",
   "execution_count": 85,
   "metadata": {
    "tags": []
   },
   "outputs": [],
   "source": [
    "#| export\n",
    "def directoryNameClean(string):\n",
    "    # This breaks a string down into individual words and\n",
    "    words = string.split()\n",
    "    upperWords = []\n",
    "    for word in words:\n",
    "        if word[0].isupper():\n",
    "            upperWords.append(word)\n",
    "        elif word.isalpha() == False:\n",
    "            upperWords.append(word)\n",
    "    \n",
    "    string = ''\n",
    "    for word in upperWords:\n",
    "        string = string + word\n",
    "    \n",
    "    # This loop removes any of the illegal characters for directories\n",
    "    illegalChars = ['\\\\','#','%','&','{','}','<','>','*','?','/',' ','$','!',\"'\",'\"',':','@','+','`','|','=']\n",
    "    for char in illegalChars:\n",
    "        removalCount = 0\n",
    "        numChars = len(string)\n",
    "        for i in range(len(string)):\n",
    "            if string[i] == char:\n",
    "                string = string[:i] + string[i+1:]\n",
    "                removalCount = removalCount + 1\n",
    "\n",
    "            if numChars - removalCount - 1 == i:\n",
    "                break\n",
    "    \n",
    "    # This loop removes any vowels in an overly long string\n",
    "    vowels = ['a','e','i','o','u']\n",
    "    if len(string) > 26:\n",
    "        for char in vowels:\n",
    "            removalCount = 0\n",
    "            numChars = len(string)\n",
    "            for i in range(len(string)):\n",
    "                if string[i] == char:\n",
    "                    while string[i] == char:\n",
    "                        string = string[:i] + string[i+1:]\n",
    "                        removalCount = removalCount + 1\n",
    "                \n",
    "                if numChars - removalCount - 1 == i:\n",
    "                    break\n",
    "    \n",
    "    if len(string) > 26:\n",
    "        string = string[0:26]\n",
    "    \n",
    "    return string.lower()"
   ]
  },
  {
   "cell_type": "code",
   "execution_count": 86,
   "metadata": {
    "tags": []
   },
   "outputs": [
    {
     "name": "stdout",
     "output_type": "stream",
     "text": [
      "stvrnktmnstrygrkcllctnn.53\n"
     ]
    }
   ],
   "source": [
    "# Testing the function on a real world example\n",
    "newstring = 'Stavronikita Monastery Greek handwritten document Collection no.53'\n",
    "\n",
    "print(directoryNameClean(newstring))"
   ]
  },
  {
   "cell_type": "code",
   "execution_count": 24,
   "metadata": {
    "tags": []
   },
   "outputs": [
    {
     "name": "stdout",
     "output_type": "stream",
     "text": [
      "\\aaa#aaa%aaa&aaa{aaa}aaa<aaa>aaa*aaa?aaa/aaa aaa$aaa!aaa'aaa\"aaa:aaa@aaa+aaa`aaa|aaa=aaa\n",
      "a\n"
     ]
    }
   ],
   "source": [
    "# Testing the directoryNameClean function. ```re.sub``` didn't work for whatever reason, something about nothing being at 0, despite that not being an expected behavior. Difficulty iterating over multiple chars? Also didn't take backslashes at all.\n",
    "\n",
    "illegalChars = ['\\\\','#','%','&','{','}','<','>','*','?','/',' ','$','!',\"'\",'\"',':','@','+','`','|','=']\n",
    "newstring=''\n",
    "\n",
    "for char in illegalChars:\n",
    "    newstring = newstring + char + 'aaa'\n",
    "    \n",
    "print(newstring)\n",
    "\n",
    "print(directoryNameClean(newstring))"
   ]
  },
  {
   "cell_type": "markdown",
   "metadata": {},
   "source": [
    "## saveImage\n",
    "\n",
    "The ```saveImage``` function takes image content from the upload widget value dictionary and saves them as files to the relevant manuscripts folder. Borrows code from [Ulrich Stern's answer](https://stackoverflow.com/a/54162776/1628638) and iterates over the elements of the dictionary with that code. It takes the arguments:\n",
    "- ```files```: a dictionary with image data for several images keyed in memory\n",
    "- ```targetDirectory```: a path to some manuscript directory for image saving\n",
    "\n",
    "Passed into the ```files``` argument **MUST** be a ```<FileUpload widget>.value``` key from an uploader with image data. This contains the memory locations for the images."
   ]
  },
  {
   "cell_type": "code",
   "execution_count": 10,
   "metadata": {
    "tags": []
   },
   "outputs": [],
   "source": [
    "#| export\n",
    "def saveImages(files:dict, targetDirectory):\n",
    "    # This function saves content from memory into storage using the keys in the passed files dict (from a FileUpload widget)\n",
    "    # This \n",
    "    baseDirectory = os.getcwd()\n",
    "    os.chdir(os.path.join(targetDirectory, 'images'))\n",
    "    \n",
    "    # Not sure what exactly this does, this is what I borrowed\n",
    "    for i in range(len(files)):\n",
    "        # I think this takes the content from the memory marker and reads it into Python readable code\n",
    "        img_stream = io.BytesIO(files[i]['content'])\n",
    "        # I have no clue why Numpy is needed here (probably some ungodly matrices and formats), but this turns the data into a cv2 readable image\n",
    "        img = cv2.imdecode(np.frombuffer(img_stream.read(), np.uint8), 1)\n",
    "        # This writes an image to some target directory\n",
    "        cv2.imwrite(files[i]['name'], img)\n",
    "        \n",
    "    os.chdir(baseDirectory)"
   ]
  },
  {
   "cell_type": "code",
   "execution_count": 11,
   "metadata": {
    "tags": []
   },
   "outputs": [
    {
     "data": {
      "application/vnd.jupyter.widget-view+json": {
       "model_id": "9017e8cf9adc47b1b490d3ac7edd2f61",
       "version_major": 2,
       "version_minor": 0
      },
      "text/plain": [
       "FileUpload(value=(), description='Upload Manuscript Images', layout=Layout(height='auto', width='auto'), multi…"
      ]
     },
     "execution_count": 11,
     "metadata": {},
     "output_type": "execute_result"
    }
   ],
   "source": [
    "# testing for saveImages\n",
    "import ipywidgets as widgets\n",
    "\n",
    "uploader = widgets.FileUpload(\n",
    "    accept = '',  # Accepted file extension e.g. '.txt', '.pdf', 'image/*', 'image/*,.pdf'\n",
    "    multiple = True,  # True to accept multiple files upload else False\n",
    "    description = 'Upload Manuscript Images',\n",
    "    layout = widgets.Layout(height='auto', width='auto')\n",
    ")\n",
    "uploader"
   ]
  },
  {
   "cell_type": "code",
   "execution_count": 12,
   "metadata": {
    "tags": []
   },
   "outputs": [
    {
     "ename": "FileNotFoundError",
     "evalue": "[Errno 2] No such file or directory: '/home/dc/glyptodon/manuscripts/manuscripts/elements/images'",
     "output_type": "error",
     "traceback": [
      "\u001b[0;31m---------------------------------------------------------------------------\u001b[0m",
      "\u001b[0;31mFileNotFoundError\u001b[0m                         Traceback (most recent call last)",
      "Cell \u001b[0;32mIn[12], line 3\u001b[0m\n\u001b[1;32m      1\u001b[0m target \u001b[38;5;241m=\u001b[39m os\u001b[38;5;241m.\u001b[39mpath\u001b[38;5;241m.\u001b[39mjoin(os\u001b[38;5;241m.\u001b[39mpath\u001b[38;5;241m.\u001b[39mjoin(os\u001b[38;5;241m.\u001b[39mgetcwd(), \u001b[38;5;124m'\u001b[39m\u001b[38;5;124mmanuscripts\u001b[39m\u001b[38;5;124m'\u001b[39m), \u001b[38;5;124m'\u001b[39m\u001b[38;5;124melements\u001b[39m\u001b[38;5;124m'\u001b[39m)\n\u001b[0;32m----> 3\u001b[0m \u001b[43msaveImages\u001b[49m\u001b[43m(\u001b[49m\u001b[43muploader\u001b[49m\u001b[38;5;241;43m.\u001b[39;49m\u001b[43mvalue\u001b[49m\u001b[43m,\u001b[49m\u001b[43m \u001b[49m\u001b[43mtarget\u001b[49m\u001b[43m)\u001b[49m\n",
      "Cell \u001b[0;32mIn[10], line 6\u001b[0m, in \u001b[0;36msaveImages\u001b[0;34m(files, targetDirectory)\u001b[0m\n\u001b[1;32m      2\u001b[0m \u001b[38;5;28;01mdef\u001b[39;00m \u001b[38;5;21msaveImages\u001b[39m(files:\u001b[38;5;28mdict\u001b[39m, targetDirectory):\n\u001b[1;32m      3\u001b[0m     \u001b[38;5;66;03m# This function saves content from memory into storage using the keys in the passed files dict (from a FileUpload widget)\u001b[39;00m\n\u001b[1;32m      4\u001b[0m     \u001b[38;5;66;03m# This \u001b[39;00m\n\u001b[1;32m      5\u001b[0m     baseDirectory \u001b[38;5;241m=\u001b[39m os\u001b[38;5;241m.\u001b[39mgetcwd()\n\u001b[0;32m----> 6\u001b[0m     \u001b[43mos\u001b[49m\u001b[38;5;241;43m.\u001b[39;49m\u001b[43mchdir\u001b[49m\u001b[43m(\u001b[49m\u001b[43mos\u001b[49m\u001b[38;5;241;43m.\u001b[39;49m\u001b[43mpath\u001b[49m\u001b[38;5;241;43m.\u001b[39;49m\u001b[43mjoin\u001b[49m\u001b[43m(\u001b[49m\u001b[43mtargetDirectory\u001b[49m\u001b[43m,\u001b[49m\u001b[43m \u001b[49m\u001b[38;5;124;43m'\u001b[39;49m\u001b[38;5;124;43mimages\u001b[39;49m\u001b[38;5;124;43m'\u001b[39;49m\u001b[43m)\u001b[49m\u001b[43m)\u001b[49m\n\u001b[1;32m      8\u001b[0m     \u001b[38;5;66;03m# Not sure what exactly this does, this is what I borrowed\u001b[39;00m\n\u001b[1;32m      9\u001b[0m     \u001b[38;5;28;01mfor\u001b[39;00m i \u001b[38;5;129;01min\u001b[39;00m \u001b[38;5;28mrange\u001b[39m(\u001b[38;5;28mlen\u001b[39m(files)):\n\u001b[1;32m     10\u001b[0m         \u001b[38;5;66;03m# I think this takes the content from the memory marker and reads it into Python readable code\u001b[39;00m\n",
      "\u001b[0;31mFileNotFoundError\u001b[0m: [Errno 2] No such file or directory: '/home/dc/glyptodon/manuscripts/manuscripts/elements/images'"
     ]
    }
   ],
   "source": [
    "target = os.path.join(os.path.join(os.getcwd(), 'manuscripts'), 'elements')\n",
    "\n",
    "saveImages(uploader.value, target)"
   ]
  },
  {
   "cell_type": "code",
   "execution_count": 13,
   "metadata": {
    "tags": []
   },
   "outputs": [
    {
     "data": {
      "text/plain": [
       "()"
      ]
     },
     "execution_count": 13,
     "metadata": {},
     "output_type": "execute_result"
    }
   ],
   "source": [
    "uploader.value"
   ]
  },
  {
   "cell_type": "markdown",
   "metadata": {},
   "source": [
    "## currentManuscripts\n",
    "\n",
    "We also want a function that can search through the current directories in manuscripts and find all the manuscripts in the directory to return the metadata of the manuscripts. To that end, we have the ```currentManuscripts``` function."
   ]
  },
  {
   "cell_type": "code",
   "execution_count": 14,
   "metadata": {
    "tags": []
   },
   "outputs": [],
   "source": [
    "#| export\n",
    "\n",
    "def currentManuscripts():\n",
    "    # If this is run on any computer, it will have a unique file structure. This implementation works with that file structure.\n",
    "    baseDirectory = os.getcwd()\n",
    "    manuscriptDirectory = os.path.join(baseDirectory,'manuscripts')\n",
    "    \n",
    "    # This is necessary to keep directories accessible. Without os.path.join, we can't keep a full directory name and access files inside specific directories\n",
    "    directories = []\n",
    "    for path in os.listdir(manuscriptDirectory):\n",
    "        directories.append(os.path.join(manuscriptDirectory,path))\n",
    "    \n",
    "    # This is necessary to store metadata from .cfg files\n",
    "    manuscriptMetadata = []\n",
    "    \n",
    "    # This is necessary to search each directory in the manuscripts folder\n",
    "    for directory in directories:\n",
    "        # This looks through each file in a given directory\n",
    "        for file in os.listdir(directory):\n",
    "            # This opens config files and reads metadata from them\n",
    "            if file.endswith('.cfg'):\n",
    "                fileDirectory = os.path.join(directory,file)\n",
    "                f = open(fileDirectory, 'r')\n",
    "                metadata = {}\n",
    "\n",
    "                for line in f:\n",
    "                    key, value = line.split(':')\n",
    "                    metadata[key] = value[:-1]\n",
    "\n",
    "                manuscriptMetadata.append([directory, metadata])\n",
    "    \n",
    "    os.chdir(baseDirectory)\n",
    "    return manuscriptMetadata"
   ]
  },
  {
   "cell_type": "code",
   "execution_count": 15,
   "metadata": {
    "tags": []
   },
   "outputs": [
    {
     "ename": "FileNotFoundError",
     "evalue": "[Errno 2] No such file or directory: '/home/dc/glyptodon/manuscripts/manuscripts'",
     "output_type": "error",
     "traceback": [
      "\u001b[0;31m---------------------------------------------------------------------------\u001b[0m",
      "\u001b[0;31mFileNotFoundError\u001b[0m                         Traceback (most recent call last)",
      "Cell \u001b[0;32mIn[15], line 1\u001b[0m\n\u001b[0;32m----> 1\u001b[0m test \u001b[38;5;241m=\u001b[39m \u001b[43mcurrentManuscripts\u001b[49m\u001b[43m(\u001b[49m\u001b[43m)\u001b[49m\n\u001b[1;32m      3\u001b[0m \u001b[38;5;28mprint\u001b[39m(\u001b[38;5;28mlen\u001b[39m(test))\n\u001b[1;32m      5\u001b[0m \u001b[38;5;28;01mfor\u001b[39;00m metadata \u001b[38;5;129;01min\u001b[39;00m test:\n",
      "Cell \u001b[0;32mIn[14], line 10\u001b[0m, in \u001b[0;36mcurrentManuscripts\u001b[0;34m()\u001b[0m\n\u001b[1;32m      8\u001b[0m \u001b[38;5;66;03m# This is necessary to keep directories accessible. Without os.path.join, we can't keep a full directory name and access files inside specific directories\u001b[39;00m\n\u001b[1;32m      9\u001b[0m directories \u001b[38;5;241m=\u001b[39m []\n\u001b[0;32m---> 10\u001b[0m \u001b[38;5;28;01mfor\u001b[39;00m path \u001b[38;5;129;01min\u001b[39;00m \u001b[43mos\u001b[49m\u001b[38;5;241;43m.\u001b[39;49m\u001b[43mlistdir\u001b[49m\u001b[43m(\u001b[49m\u001b[43mmanuscriptDirectory\u001b[49m\u001b[43m)\u001b[49m:\n\u001b[1;32m     11\u001b[0m     directories\u001b[38;5;241m.\u001b[39mappend(os\u001b[38;5;241m.\u001b[39mpath\u001b[38;5;241m.\u001b[39mjoin(manuscriptDirectory,path))\n\u001b[1;32m     13\u001b[0m \u001b[38;5;66;03m# This is necessary to store metadata from .cfg files\u001b[39;00m\n",
      "\u001b[0;31mFileNotFoundError\u001b[0m: [Errno 2] No such file or directory: '/home/dc/glyptodon/manuscripts/manuscripts'"
     ]
    }
   ],
   "source": [
    "test = currentManuscripts()\n",
    "\n",
    "print(len(test))\n",
    "\n",
    "for metadata in test:\n",
    "    print(metadata[1])"
   ]
  },
  {
   "cell_type": "code",
   "execution_count": 16,
   "metadata": {
    "tags": []
   },
   "outputs": [
    {
     "ename": "NameError",
     "evalue": "name 'test' is not defined",
     "output_type": "error",
     "traceback": [
      "\u001b[0;31m---------------------------------------------------------------------------\u001b[0m",
      "\u001b[0;31mNameError\u001b[0m                                 Traceback (most recent call last)",
      "Cell \u001b[0;32mIn[16], line 1\u001b[0m\n\u001b[0;32m----> 1\u001b[0m \u001b[38;5;28;01mfor\u001b[39;00m metadata \u001b[38;5;129;01min\u001b[39;00m \u001b[43mtest\u001b[49m:\n\u001b[1;32m      2\u001b[0m     \u001b[38;5;28mprint\u001b[39m(\u001b[38;5;28mtype\u001b[39m(metadata[\u001b[38;5;241m0\u001b[39m]))\n",
      "\u001b[0;31mNameError\u001b[0m: name 'test' is not defined"
     ]
    }
   ],
   "source": [
    "for metadata in test:\n",
    "    print(type(metadata[0]))"
   ]
  },
  {
   "cell_type": "markdown",
   "metadata": {},
   "source": [
    "## zipManuscripts [in progress]\n",
    "\n",
    "If we ever want to export transcriptions from inside this document, having an automatic zip function would be incredibly useful. To that end, here is some testing on a file zipping function."
   ]
  },
  {
   "cell_type": "code",
   "execution_count": 17,
   "metadata": {
    "tags": []
   },
   "outputs": [
    {
     "ename": "FileNotFoundError",
     "evalue": "[Errno 2] No such file or directory: 'zipTest'",
     "output_type": "error",
     "traceback": [
      "\u001b[0;31m---------------------------------------------------------------------------\u001b[0m",
      "\u001b[0;31mFileNotFoundError\u001b[0m                         Traceback (most recent call last)",
      "Cell \u001b[0;32mIn[17], line 8\u001b[0m\n\u001b[1;32m      6\u001b[0m files \u001b[38;5;241m=\u001b[39m []\n\u001b[1;32m      7\u001b[0m paths \u001b[38;5;241m=\u001b[39m []\n\u001b[0;32m----> 8\u001b[0m \u001b[38;5;28;01mfor\u001b[39;00m path \u001b[38;5;129;01min\u001b[39;00m \u001b[43mos\u001b[49m\u001b[38;5;241;43m.\u001b[39;49m\u001b[43mlistdir\u001b[49m\u001b[43m(\u001b[49m\u001b[43mzipDirectory\u001b[49m\u001b[43m)\u001b[49m:\n\u001b[1;32m      9\u001b[0m     \u001b[38;5;28;01mif\u001b[39;00m path \u001b[38;5;241m==\u001b[39m \u001b[38;5;124m'\u001b[39m\u001b[38;5;124mimages\u001b[39m\u001b[38;5;124m'\u001b[39m:\n\u001b[1;32m     10\u001b[0m         paths\u001b[38;5;241m.\u001b[39mappend(os\u001b[38;5;241m.\u001b[39mpath\u001b[38;5;241m.\u001b[39mjoin(zipDirectory, path))\n",
      "\u001b[0;31mFileNotFoundError\u001b[0m: [Errno 2] No such file or directory: 'zipTest'"
     ]
    }
   ],
   "source": [
    "# Reading in file directories from zipTest folder to zip them\n",
    "\n",
    "baseDirectory = os.getcwd()\n",
    "zipDirectory = 'zipTest'\n",
    "\n",
    "files = []\n",
    "paths = []\n",
    "for path in os.listdir(zipDirectory):\n",
    "    if path == 'images':\n",
    "        paths.append(os.path.join(zipDirectory, path))\n",
    "    elif path == 'exportTranscripts':\n",
    "        paths.append(os.path.join(zipDirectory, path))\n",
    "\n",
    "for path in paths:\n",
    "    for file in os.listdir(path):\n",
    "        files.append(os.path.join(path, file))\n",
    "        \n",
    "print(files)\n",
    "# not sure if this is needed, but keeping it for best practice\n",
    "os.chdir(baseDirectory)"
   ]
  },
  {
   "cell_type": "code",
   "execution_count": null,
   "metadata": {
    "tags": []
   },
   "outputs": [],
   "source": [
    "# Trying different zip strategies\n",
    "import zipfile\n",
    "\n",
    "current = os.getcwd()\n",
    "\n",
    "# base folder size is 8641 KB\n",
    "\n",
    "# This iterates over a list of files\n",
    "for file in files:\n",
    "    # This writes a file to a particular zip folder\n",
    "    zipfile.ZipFile(file = 'zipTest.zip', mode = 'a', compression = zipfile.ZIP_DEFLATED,).write(file)\n",
    "\n",
    "# no compresslevel corresponds to 8156 KB"
   ]
  },
  {
   "cell_type": "code",
   "execution_count": null,
   "metadata": {
    "tags": []
   },
   "outputs": [],
   "source": [
    "## Testing compression levels\n",
    "for file in files:\n",
    "    # This writes a file to a particular zip folder\n",
    "    zipfile.ZipFile(file = 'zipTest1.zip', mode = 'a', compression = zipfile.ZIP_DEFLATED, compresslevel = 1).write(file)\n",
    "\n",
    "# result: 8153 KB\n",
    "    \n",
    "for file in files:\n",
    "    # This writes a file to a particular zip folder\n",
    "    zipfile.ZipFile(file = 'zipTest2.zip', mode = 'a', compression = zipfile.ZIP_DEFLATED, compresslevel = 2).write(file)\n",
    "\n",
    "# result: 8151 KB\n",
    "    \n",
    "for file in files:\n",
    "    # This writes a file to a particular zip folder\n",
    "    zipfile.ZipFile(file = 'zipTest3.zip', mode = 'a', compression = zipfile.ZIP_DEFLATED, compresslevel = 3).write(file)\n",
    "\n",
    "# result: 8150 KB\n",
    "\n",
    "# results for levels 4-9: 8156 KB\n",
    "\n",
    "for file in files:\n",
    "    # This writes a file to a particular zip folder\n",
    "    zipfile.ZipFile(file = 'zipTest4.zip', mode = 'a', compression = zipfile.ZIP_DEFLATED, compresslevel = 4).write(file)\n",
    "    \n",
    "for file in files:\n",
    "    # This writes a file to a particular zip folder\n",
    "    zipfile.ZipFile(file = 'zipTest5.zip', mode = 'a', compression = zipfile.ZIP_DEFLATED, compresslevel = 5).write(file)\n",
    "\n",
    "for file in files:\n",
    "    # This writes a file to a particular zip folder\n",
    "    zipfile.ZipFile(file = 'zipTest6.zip', mode = 'a', compression = zipfile.ZIP_DEFLATED, compresslevel = 6).write(file)\n",
    "\n",
    "for file in files:\n",
    "    # This writes a file to a particular zip folder\n",
    "    zipfile.ZipFile(file = 'zipTest7.zip', mode = 'a', compression = zipfile.ZIP_DEFLATED, compresslevel = 7).write(file)\n",
    "    \n",
    "for file in files:\n",
    "    # This writes a file to a particular zip folder\n",
    "    zipfile.ZipFile(file = 'zipTest8.zip', mode = 'a', compression = zipfile.ZIP_DEFLATED, compresslevel = 8).write(file)\n",
    "\n",
    "for file in files:\n",
    "    # This writes a file to a particular zip folder\n",
    "    zipfile.ZipFile(file = 'zipTest9.zip', mode = 'a', compression = zipfile.ZIP_DEFLATED, compresslevel = 9).write(file)"
   ]
  },
  {
   "cell_type": "markdown",
   "metadata": {},
   "source": [
    "## updateMetadata\n",
    "\n",
    "This function is designed to update the metadata in a file given a dictionary of information being passed into it and a path to the relevant directory. This dictionary should be based on calls from ```Text``` widgets in the Information stage. This was designed using [this answer](https://stackoverflow.com/questions/3964681/find-all-files-in-a-directory-with-extension-txt-in-python/3964690#3964690) from stackoverflow."
   ]
  },
  {
   "cell_type": "code",
   "execution_count": 2,
   "metadata": {
    "tags": []
   },
   "outputs": [],
   "source": [
    "#| export\n",
    "def updateMetadata(directory, information):\n",
    "    for root, dirs, files in os.walk(directory):\n",
    "        for file in files:\n",
    "            if file.endswith('.cfg'):\n",
    "                f = open(file, 'w')\n",
    "                \n",
    "                printable = dictToList(information)\n",
    "                for data in printable:\n",
    "                    f.write(data + '\\n')"
   ]
  },
  {
   "cell_type": "code",
   "execution_count": null,
   "metadata": {
    "tags": []
   },
   "outputs": [],
   "source": [
    "#| hide\n",
    "import nbdev; nbdev.nbdev_export()"
   ]
  }
 ],
 "metadata": {
  "kernelspec": {
   "display_name": "Python 3 (ipykernel)",
   "language": "python",
   "name": "python3"
  },
  "language_info": {
   "codemirror_mode": {
    "name": "ipython",
    "version": 3
   },
   "file_extension": ".py",
   "mimetype": "text/x-python",
   "name": "python",
   "nbconvert_exporter": "python",
   "pygments_lexer": "ipython3",
   "version": "3.11.4"
  }
 },
 "nbformat": 4,
 "nbformat_minor": 4
}
