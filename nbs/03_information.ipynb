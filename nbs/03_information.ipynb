{
 "cells": [
  {
   "cell_type": "markdown",
   "metadata": {},
   "source": [
    "# information\n",
    "\n",
    "> This module contains code for the information tab of the application"
   ]
  },
  {
   "cell_type": "code",
   "execution_count": 1,
   "metadata": {},
   "outputs": [],
   "source": [
    "#| default_exp selection"
   ]
  },
  {
   "cell_type": "code",
   "execution_count": 2,
   "metadata": {},
   "outputs": [],
   "source": [
    "#| hide\n",
    "from nbdev.showdoc import *"
   ]
  },
  {
   "cell_type": "markdown",
   "metadata": {},
   "source": [
    "These are the relevant library calls to build out the UI and the calls to the model in order to set up the manuscript selection buttons."
   ]
  },
  {
   "cell_type": "code",
   "execution_count": 3,
   "metadata": {},
   "outputs": [],
   "source": [
    "#| hide\n",
    "# This library is only for testing the layout. It does not need to be called extraneously\n",
    "from dash import Dash"
   ]
  },
  {
   "cell_type": "code",
   "execution_count": 4,
   "metadata": {
    "tags": []
   },
   "outputs": [],
   "source": [
    "#| export\n",
    "from dash import dcc, html\n",
    "from glyptodon.manuscriptFiles import updateMetadata"
   ]
  },
  {
   "cell_type": "markdown",
   "metadata": {},
   "source": [
    "## labeledInput\n",
    "\n",
    "For this tab, we want ```Input``` elements. Unfortunately, this will be hard to read unless the ```Input``` has a ```Label```. For this reason, the ```labeledInput``` tab takes in a single value for the label text and placeholder value for ```Input``` and returns a ```Div``` object with both a ```Label``` and an ```Input``` for children."
   ]
  },
  {
   "cell_type": "code",
   "execution_count": 5,
   "metadata": {
    "tags": []
   },
   "outputs": [],
   "source": [
    "#| export\n",
    "def labeledInput(label, identity = None):\n",
    "    lab = html.Label(children=label)\n",
    "    inp = dcc.Input(placeholder=label, id=identity)\n",
    "\n",
    "    return html.Div([lab, inp])"
   ]
  },
  {
   "cell_type": "code",
   "execution_count": null,
   "metadata": {
    "tags": []
   },
   "outputs": [],
   "source": [
    "#| hide\n",
    "app = Dash(__name__)\n",
    "\n",
    "app.layout = html.Div(\n",
    "    [\n",
    "        labeledInput(label=\"test\", placeholder=\"test\"),\n",
    "        labeledInput(label=\"testy\", placeholder=\"testy\"),\n",
    "    ]\n",
    ")\n",
    "\n",
    "if __name__ == \"__main__\":\n",
    "    app.run(debug=True)"
   ]
  },
  {
   "cell_type": "markdown",
   "metadata": {},
   "source": [
    "## createInputObjects\n",
    "\n",
    "It would be ideal to have a function which would give us ```Input``` objects for metadata manipulation and return them alongside a useful key to quickly set their values. This function utilizes ```labeledInput``` to make that as simple as possible. It returns:\n",
    "- A ```list``` containing the metadata labels that can be used to quickly access a dictionary in sequence\n",
    "- A ```list``` containing the ```Input``` objects"
   ]
  },
  {
   "cell_type": "code",
   "execution_count": 15,
   "metadata": {
    "tags": []
   },
   "outputs": [],
   "source": [
    "#| export\n",
    "def createInputObjects():\n",
    "    inputObjects = []\n",
    "    metadata = [\"Work\", \"Author\", \"Language\", \"Country\", \"City\", \"Institution\"]\n",
    "\n",
    "    for data in metadata:\n",
    "        inputObjects.append(labeledInput(label = data, identity = data.lower()))\n",
    "\n",
    "    return metadata, inputObjects"
   ]
  },
  {
   "cell_type": "code",
   "execution_count": null,
   "metadata": {
    "tags": []
   },
   "outputs": [],
   "source": [
    "#| hide\n",
    "app = Dash(__name__)\n",
    "\n",
    "app.layout = html.Div(createInputObjects()[1])\n",
    "\n",
    "if __name__ == \"__main__\":\n",
    "    app.run(debug=True)"
   ]
  },
  {
   "cell_type": "markdown",
   "metadata": {},
   "source": [
    "## createCenturiesSlider\n",
    "\n",
    "In addition to the ```Input``` objects which contain important metadata, we also want the user to be able to edit data regarding the century of the manuscripts so that the time a manuscript is written is still a part of the objects data. This function uses the [```RangeSlider```](https://dash.plotly.com/dash-core-components/rangeslider) object. Because of the smaller size this object needs to have in a window, the ```marks``` of ```RangeSlider``` are not displayed through the object. Rather, an attached label is updated in the main application. Additionally, this object only allows users to input centuries from the first century AD/CE forward and not earlier. This is not an inherently necessary design decision, but it simplifies considerably the display of the widget. Should this be a poor choice, it will be revisited later. This function returns:\n",
    "- A ```list``` containing the possible century options indexed to their easy numerical value (i.e. \"First century\" indexed to 1) and nothing in the zero index\n",
    "- A ```Div``` object containing a ```RangeSlider``` object with 20 possible options from 1 to 20 and a label for it"
   ]
  },
  {
   "cell_type": "code",
   "execution_count": 7,
   "metadata": {
    "tags": []
   },
   "outputs": [],
   "source": [
    "#| export\n",
    "def createCenturiesSlider():\n",
    "    centuries = [\n",
    "        None,\n",
    "        \"1st\",\n",
    "        \"2nd\",\n",
    "        \"3rd\",\n",
    "    ] + [f\"{i}th\" for i in range(4, 21)]\n",
    "\n",
    "    centuriesSlider = dcc.RangeSlider(\n",
    "        min=1,\n",
    "        max=20,\n",
    "        step=1,\n",
    "        value=[1, 20],\n",
    "        id=\"centuries-slider\",\n",
    "        marks=None,\n",
    "    )\n",
    "\n",
    "    return centuries, html.Div([html.Label(children=\"Centuries\"),centuriesSlider])"
   ]
  },
  {
   "cell_type": "code",
   "execution_count": null,
   "metadata": {
    "tags": []
   },
   "outputs": [],
   "source": [
    "#| hide\n",
    "app = Dash(__name__)\n",
    "\n",
    "app.layout = html.Div(createCenturiesSlider()[1])\n",
    "\n",
    "if __name__ == \"__main__\":\n",
    "    app.run(debug=True)"
   ]
  },
  {
   "cell_type": "markdown",
   "metadata": {},
   "source": [
    "## createUploadObjects\n",
    "\n",
    "In order for users to fully utilize this application, we want them to be able to upload files through the application instead of placing them into file folders. Using the available libraries, the [```Upload```](https://dash.plotly.com/dash-core-components/upload) object is the best object for this task. When files are uploaded in this object, they are stored as binary string, so calls from ```manuscriptFiles``` are necessary to take these from memory and into storage. This function returns:\n",
    "- An ```Upload``` object that is for images\n",
    "- An ```Upload``` object that is for manuscripts"
   ]
  },
  {
   "cell_type": "code",
   "execution_count": 8,
   "metadata": {
    "tags": []
   },
   "outputs": [],
   "source": [
    "#| export\n",
    "def createUploadObjects():\n",
    "    uploadImages = dcc.Upload(\n",
    "        children=html.Button(\"Upload Images\"),\n",
    "        multiple=True,\n",
    "        id=\"upload-images\",\n",
    "    )\n",
    "\n",
    "    uploadManuscripts = dcc.Upload(\n",
    "        children=html.Button(\"Upload Manuscripts\"),\n",
    "        multiple=True,\n",
    "        id=\"upload-manuscripts\",\n",
    "    )\n",
    "\n",
    "    return uploadImages, uploadManuscripts"
   ]
  },
  {
   "cell_type": "code",
   "execution_count": null,
   "metadata": {
    "tags": []
   },
   "outputs": [],
   "source": [
    "#| hide\n",
    "app = Dash(__name__)\n",
    "\n",
    "app.layout = html.Div(createUploadObjects())\n",
    "\n",
    "if __name__ == \"__main__\":\n",
    "    app.run(debug=True)"
   ]
  },
  {
   "cell_type": "markdown",
   "metadata": {},
   "source": [
    "## createInformationInfo\n",
    "\n",
    "Just as the ```selection``` module has an info pane to display info on how to use that tab, this module also needs an info pane. As before, it uses the ```Markdown``` object to create the relevant information."
   ]
  },
  {
   "cell_type": "code",
   "execution_count": 9,
   "metadata": {
    "tags": []
   },
   "outputs": [],
   "source": [
    "#| export\n",
    "def createInformationInfo():\n",
    "    return dcc.Markdown(\n",
    "        \"\"\"\n",
    "    # Information\n",
    "    \n",
    "    This menu allows you to modify the information about a manuscript and upload images and transcripts for a manuscript.\n",
    "    \n",
    "    Once you have made your changes and uploaded the relevant files, click the Save and Continue button to save these changes and move to the next tab.\n",
    "    \"\"\"\n",
    "    )"
   ]
  },
  {
   "cell_type": "code",
   "execution_count": null,
   "metadata": {
    "tags": []
   },
   "outputs": [],
   "source": [
    "#| hide\n",
    "createInformationInfo()"
   ]
  },
  {
   "cell_type": "markdown",
   "metadata": {},
   "source": [
    "## createSaveNContinue\n",
    "\n",
    "This function returns a ```Button``` that will be linked to a [callback](https://dash.plotly.com/basic-callbacks) which saves the data from the various objects in this tab and then moves onto the next one."
   ]
  },
  {
   "cell_type": "code",
   "execution_count": 10,
   "metadata": {
    "tags": []
   },
   "outputs": [],
   "source": [
    "#| export\n",
    "def createSaveNContinue():\n",
    "    return html.Button(\"Save and Continue\", id=\"save-and-continue\")"
   ]
  },
  {
   "cell_type": "markdown",
   "metadata": {},
   "source": [
    "## createInformationLayout\n",
    "\n",
    "As before, we need a layout that fits all of these widgets together. Because this will be used in another program, the information we want to preserve from the function calls in this module will also be returned. This function returns:\n",
    "- ```centuries```\n",
    "- ```metadata```\n",
    "- A ```Div``` object containg the tab layout to be put into a ```Tab``` object"
   ]
  },
  {
   "cell_type": "code",
   "execution_count": 16,
   "metadata": {
    "tags": []
   },
   "outputs": [],
   "source": [
    "#| export\n",
    "def createInformationLayout():\n",
    "    metadata, inputObjects = createInputObjects()\n",
    "    centuries, centuriesSlider = createCenturiesSlider()\n",
    "    uploadImages, uploadManuscripts = createUploadObjects()\n",
    "    saveNContinue = createSaveNContinue()\n",
    "    \n",
    "    layout = html.Div(\n",
    "        [\n",
    "            createInformationInfo(),\n",
    "            html.Br(), # This is a temporary measure to make it more readable, true for following Br calls\n",
    "            html.Div(inputObjects),\n",
    "            html.Br(),\n",
    "            html.Div(\n",
    "                [\n",
    "                    uploadImages,\n",
    "                    uploadManuscripts,\n",
    "                ]\n",
    "            ),\n",
    "            html.Br(),\n",
    "            saveNContinue,\n",
    "        ]\n",
    "    )\n",
    "    \n",
    "    return metadata, centuries, layout"
   ]
  },
  {
   "cell_type": "code",
   "execution_count": 17,
   "metadata": {
    "tags": []
   },
   "outputs": [
    {
     "data": {
      "text/html": [
       "\n",
       "        <iframe\n",
       "            width=\"100%\"\n",
       "            height=\"650\"\n",
       "            src=\"http://127.0.0.1:8050/\"\n",
       "            frameborder=\"0\"\n",
       "            allowfullscreen\n",
       "            \n",
       "        ></iframe>\n",
       "        "
      ],
      "text/plain": [
       "<IPython.lib.display.IFrame at 0x7f3afe0a1c10>"
      ]
     },
     "metadata": {},
     "output_type": "display_data"
    }
   ],
   "source": [
    "#| hide\n",
    "app = Dash(__name__)\n",
    "\n",
    "app.layout = createInformationLayout()[2]\n",
    "\n",
    "if __name__ == \"__main__\":\n",
    "    app.run(debug=True)"
   ]
  },
  {
   "cell_type": "code",
   "execution_count": null,
   "metadata": {},
   "outputs": [],
   "source": [
    "#| hide\n",
    "import nbdev\n",
    "\n",
    "nbdev.nbdev_export()"
   ]
  }
 ],
 "metadata": {
  "kernelspec": {
   "display_name": "Python 3 (ipykernel)",
   "language": "python",
   "name": "python3"
  },
  "language_info": {
   "codemirror_mode": {
    "name": "ipython",
    "version": 3
   },
   "file_extension": ".py",
   "mimetype": "text/x-python",
   "name": "python",
   "nbconvert_exporter": "python",
   "pygments_lexer": "ipython3",
   "version": "3.11.4"
  }
 },
 "nbformat": 4,
 "nbformat_minor": 4
}
