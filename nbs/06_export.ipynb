{
 "cells": [
  {
   "cell_type": "markdown",
   "metadata": {},
   "source": [
    "# export\n",
    "\n",
    "> This module contains code for the export tab of the application"
   ]
  },
  {
   "cell_type": "code",
   "execution_count": 1,
   "metadata": {},
   "outputs": [],
   "source": [
    "#| default_exp export"
   ]
  },
  {
   "cell_type": "code",
   "execution_count": 2,
   "metadata": {},
   "outputs": [],
   "source": [
    "#| hide\n",
    "from nbdev.showdoc import *"
   ]
  },
  {
   "cell_type": "markdown",
   "metadata": {},
   "source": [
    "These are the relevant library calls to build out the UI and the calls to the model in order to set up the manuscript selection buttons."
   ]
  },
  {
   "cell_type": "code",
   "execution_count": 18,
   "metadata": {},
   "outputs": [],
   "source": [
    "#| hide\n",
    "# This library is only for testing the layout. It does not need to be called extraneously\n",
    "import dash"
   ]
  },
  {
   "cell_type": "code",
   "execution_count": 19,
   "metadata": {
    "tags": []
   },
   "outputs": [],
   "source": [
    "#| export\n",
    "from dash import dcc, html\n",
    "import dash_bootstrap_components as dbc\n",
    "from glyptodon.information import labeledInput"
   ]
  },
  {
   "cell_type": "markdown",
   "metadata": {},
   "source": [
    "## createExportInfo\n",
    "\n",
    "This gives an info pane that tells the user how to use the ```export``` tab. This function returns a ```Markdown``` object."
   ]
  },
  {
   "cell_type": "code",
   "execution_count": 23,
   "metadata": {
    "tags": []
   },
   "outputs": [],
   "source": [
    "#| export\n",
    "def createExportInfo():\n",
    "    return dbc.Card(\n",
    "        dbc.CardBody(\n",
    "            [\n",
    "                html.H1(\"Export\"),\n",
    "                html.P(\n",
    "                    \"This menu allows you to export the manuscript and transcriptions you've worked on as a zipped folder. \"\n",
    "                    \"You can input a name for the zipped folder and select what elements of the work you want to save: \"\n",
    "                ),\n",
    "                html.Ul(\n",
    "                    [\n",
    "                        html.Li(\"If you want to share the images of your manuscript, select the 'Images' option from the dropdown\"),\n",
    "                        html.Li(\"If you want to share your transcription with another glyptodon user, select the 'States' option from the dropdown\")\n",
    "                    ]\n",
    "                ),\n",
    "                html.Br(),\n",
    "                html.P(\n",
    "                    \"Once you have selected the export options, click the export button and a file download will begin shortly containing the zipped folder.\"\n",
    "                ),\n",
    "            ]\n",
    "        )\n",
    "    )\n",
    "\n",
    "\n",
    "# [Reach] - If you want to share xml transcriptions, select the 'Export Transcripts' option from the dropdown."
   ]
  },
  {
   "cell_type": "raw",
   "metadata": {
    "tags": []
   },
   "source": [
    "#| hide\n",
    "app = dash.Dash(\n",
    "    external_stylesheets=[dbc.themes.BOOTSTRAP]\n",
    ")\n",
    "\n",
    "app.layout = html.Div(\n",
    "    [\n",
    "        createExportInfo()\n",
    "    ]\n",
    ")\n",
    "\n",
    "if __name__ == \"__main__\":\n",
    "    app.run(debug=True)"
   ]
  },
  {
   "cell_type": "markdown",
   "metadata": {},
   "source": [
    "## createExportName\n",
    "\n",
    "This wraps the ```labeledInput``` function inside ```createExportName``` in order to maintain continuity with other components of the application (see ```information```). It returns a ```Div``` object with a ```Label``` object and an ```Input``` object as children."
   ]
  },
  {
   "cell_type": "code",
   "execution_count": 25,
   "metadata": {
    "tags": []
   },
   "outputs": [],
   "source": [
    "#| export\n",
    "def createExportName():\n",
    "    return labeledInput(label = \"Export Folder Name\", identity = \"export-name\")"
   ]
  },
  {
   "cell_type": "raw",
   "metadata": {
    "tags": []
   },
   "source": [
    "#| hide\n",
    "app = dash.Dash(\n",
    "    external_stylesheets=[dbc.themes.BOOTSTRAP]\n",
    ")\n",
    "\n",
    "app.layout = html.Div(\n",
    "    [\n",
    "        createExportName()\n",
    "    ]\n",
    ")\n",
    "\n",
    "if __name__ == \"__main__\":\n",
    "    app.run(debug=True)"
   ]
  },
  {
   "cell_type": "markdown",
   "metadata": {},
   "source": [
    "## createDirectoryOptions\n",
    "\n",
    "This creates a ```Dropdown``` object with the ability to select multiple options. It includes two options at present and, hopefully, will have a third option soon (for xml)."
   ]
  },
  {
   "cell_type": "code",
   "execution_count": 9,
   "metadata": {
    "tags": []
   },
   "outputs": [],
   "source": [
    "#| export\n",
    "def createDirectoryOptions():\n",
    "    return dcc.Dropdown(\n",
    "        [\n",
    "            \"Images\",\n",
    "            \"States\",\n",
    "            # \"Export Transcripts\",\n",
    "        ],\n",
    "        [\"Images\"],\n",
    "        multi=True,\n",
    "        id=\"directory-options\",\n",
    "    )"
   ]
  },
  {
   "cell_type": "code",
   "execution_count": 10,
   "metadata": {
    "tags": []
   },
   "outputs": [
    {
     "data": {
      "text/plain": [
       "Dropdown(options=['Images', 'States'], value=['Images'], multi=True, id='directory-options')"
      ]
     },
     "execution_count": 10,
     "metadata": {},
     "output_type": "execute_result"
    }
   ],
   "source": [
    "createDirectoryOptions()"
   ]
  },
  {
   "cell_type": "markdown",
   "metadata": {},
   "source": [
    "## createExportButton\n",
    "\n",
    "This returns a button that will be linked to the ```zipDownload``` object in the application through callbacks as well as calling the ```zipManuscript``` function."
   ]
  },
  {
   "cell_type": "code",
   "execution_count": 31,
   "metadata": {
    "tags": []
   },
   "outputs": [],
   "source": [
    "#| export\n",
    "def createExportButton():\n",
    "    return dbc.Button(\"Export Manuscript\", color=\"primary\", id=\"export-button\")"
   ]
  },
  {
   "cell_type": "code",
   "execution_count": 12,
   "metadata": {
    "tags": []
   },
   "outputs": [
    {
     "data": {
      "text/plain": [
       "Button(children='Export Manuscript', id='export-button')"
      ]
     },
     "execution_count": 12,
     "metadata": {},
     "output_type": "execute_result"
    }
   ],
   "source": [
    "createExportButton()"
   ]
  },
  {
   "cell_type": "markdown",
   "metadata": {},
   "source": [
    "## createExportDownload\n",
    "\n",
    "This returns a [```Download```](https://dash.plotly.com/dash-core-components/download) object whose purpose is to allow users to download the zipped manuscripts. This object does not have a visual element."
   ]
  },
  {
   "cell_type": "code",
   "execution_count": 13,
   "metadata": {
    "tags": []
   },
   "outputs": [],
   "source": [
    "#| export\n",
    "def createExportDownload():\n",
    "    return dcc.Download(id=\"export-download\")"
   ]
  },
  {
   "cell_type": "markdown",
   "metadata": {},
   "source": [
    "## createExportLayout\n",
    "\n",
    "Self explanatory"
   ]
  },
  {
   "cell_type": "code",
   "execution_count": 37,
   "metadata": {
    "tags": []
   },
   "outputs": [],
   "source": [
    "#| export\n",
    "def createExportLayout():\n",
    "    return html.Div(\n",
    "        [\n",
    "            createExportInfo(),\n",
    "            html.Br(),\n",
    "            dbc.Card(\n",
    "                [\n",
    "                    dbc.CardBody([\n",
    "                    createExportName(),\n",
    "                    createDirectoryOptions(),\n",
    "                    ]\n",
    "                    ),\n",
    "                    createExportButton()\n",
    "                ]\n",
    "            ),\n",
    "        ]\n",
    "    )"
   ]
  },
  {
   "cell_type": "code",
   "execution_count": 38,
   "metadata": {
    "tags": []
   },
   "outputs": [
    {
     "data": {
      "text/html": [
       "\n",
       "        <iframe\n",
       "            width=\"100%\"\n",
       "            height=\"650\"\n",
       "            src=\"http://127.0.0.1:8050/\"\n",
       "            frameborder=\"0\"\n",
       "            allowfullscreen\n",
       "            \n",
       "        ></iframe>\n",
       "        "
      ],
      "text/plain": [
       "<IPython.lib.display.IFrame at 0x7f5d67376c10>"
      ]
     },
     "metadata": {},
     "output_type": "display_data"
    }
   ],
   "source": [
    "#| hide\n",
    "app = dash.Dash(\n",
    "    external_stylesheets=[dbc.themes.BOOTSTRAP]\n",
    ")\n",
    "\n",
    "app.layout = html.Div(\n",
    "    [\n",
    "        createExportLayout()\n",
    "    ]\n",
    ")\n",
    "\n",
    "if __name__ == \"__main__\":\n",
    "    app.run(debug=True)"
   ]
  },
  {
   "cell_type": "code",
   "execution_count": 15,
   "metadata": {},
   "outputs": [],
   "source": [
    "#| hide\n",
    "import nbdev\n",
    "\n",
    "nbdev.nbdev_export()"
   ]
  }
 ],
 "metadata": {
  "kernelspec": {
   "display_name": "Python 3 (ipykernel)",
   "language": "python",
   "name": "python3"
  },
  "language_info": {
   "codemirror_mode": {
    "name": "ipython",
    "version": 3
   },
   "file_extension": ".py",
   "mimetype": "text/x-python",
   "name": "python",
   "nbconvert_exporter": "python",
   "pygments_lexer": "ipython3",
   "version": "3.11.4"
  }
 },
 "nbformat": 4,
 "nbformat_minor": 4
}
