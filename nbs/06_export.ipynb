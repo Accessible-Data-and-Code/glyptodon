{
 "cells": [
  {
   "cell_type": "markdown",
   "metadata": {},
   "source": [
    "# Export\n",
    "\n",
    "> This module contains code for the export tab of the application"
   ]
  },
  {
   "cell_type": "code",
   "execution_count": null,
   "metadata": {},
   "outputs": [],
   "source": [
    "#| default_exp export"
   ]
  },
  {
   "cell_type": "code",
   "execution_count": null,
   "metadata": {},
   "outputs": [],
   "source": [
    "#| hide\n",
    "from nbdev.showdoc import *"
   ]
  },
  {
   "cell_type": "markdown",
   "metadata": {},
   "source": [
    "These are the relevant library calls to build out the UI and the calls to the model in order to set up the manuscript selection buttons."
   ]
  },
  {
   "cell_type": "code",
   "execution_count": 10,
   "metadata": {},
   "outputs": [],
   "source": [
    "#| hide\n",
    "# This library is only for testing the layout. It does not need to be called extraneously\n",
    "from dash import Dash, Input, Output, callback"
   ]
  },
  {
   "cell_type": "code",
   "execution_count": 2,
   "metadata": {
    "tags": []
   },
   "outputs": [],
   "source": [
    "#| export\n",
    "from dash import dcc, html\n",
    "from glyptodon.information import labeledInput"
   ]
  },
  {
   "cell_type": "markdown",
   "metadata": {},
   "source": [
    "## createExportInfo\n",
    "\n",
    "This gives an info pane that tells the user how to use the ```export``` tab. This function returns a ```Markdown``` object."
   ]
  },
  {
   "cell_type": "code",
   "execution_count": 5,
   "metadata": {
    "tags": []
   },
   "outputs": [],
   "source": [
    "#| export\n",
    "def createExportInfo():\n",
    "    return dcc.Markdown(\n",
    "        \"\"\"\n",
    "    # Information\n",
    "    \n",
    "    This menu allows you to export the manuscript and transcriptions you've worked on as a zipped folder.\n",
    "    \n",
    "    You can input a name for the zipped folder and select what elements of the work you want to save:\n",
    "    - If you want to share the images of your manuscript, select the 'Images' option from the dropdown.\n",
    "    - If you want to share your transcription with another *glyptodon* user, select the 'States' option from the dropdown.\n",
    "    \n",
    "    Once you have selected the export options, click the export button and a file download will begin shortly containing the zipped folder.\n",
    "    \"\"\"\n",
    "    )\n",
    "\n",
    "# [Reach] - If you want to share xml transcriptions, select the 'Export Transcripts' option from the dropdown."
   ]
  },
  {
   "cell_type": "code",
   "execution_count": 6,
   "metadata": {
    "tags": []
   },
   "outputs": [
    {
     "data": {
      "text/plain": [
       "Markdown(\"\\n    # Information\\n    \\n    This menu allows you to export the manuscript and transcriptions you've worked on as a zipped folder.\\n    \\n    You can input a name for the zipped folder and select what elements of the work you want to save.\\n    \\n    If you want to share the images of your manuscript, select the 'images' option from the dropdown.\\n    \\n    If you want to share your transcription with another *glyptodon* user, select the 'states' option from the dropdown.\\n    \\n    If you want to share xml transcriptions, select the 'exportTranscripts' option from the dropdown.\\n    \")"
      ]
     },
     "execution_count": 6,
     "metadata": {},
     "output_type": "execute_result"
    }
   ],
   "source": [
    "#| hide\n",
    "createExportInfo()"
   ]
  },
  {
   "cell_type": "markdown",
   "metadata": {},
   "source": [
    "## createExportName\n",
    "\n",
    "This wraps the ```labeledInput``` function inside ```createExportName``` in order to maintain continuity with other components of the application (see ```information```). It returns a ```Div``` object with a ```Label``` object and an ```Input``` object as children."
   ]
  },
  {
   "cell_type": "code",
   "execution_count": 3,
   "metadata": {
    "tags": []
   },
   "outputs": [],
   "source": [
    "#| export\n",
    "def createExportName():\n",
    "    return labeledInput(label = \"Export Folder Name\", identity = \"folder-name\")"
   ]
  },
  {
   "cell_type": "code",
   "execution_count": 4,
   "metadata": {
    "tags": []
   },
   "outputs": [
    {
     "data": {
      "text/plain": [
       "Div([Label('Export Folder Name'), Input(placeholder='Export Folder Name', id='folder-name')])"
      ]
     },
     "execution_count": 4,
     "metadata": {},
     "output_type": "execute_result"
    }
   ],
   "source": [
    "#| hide\n",
    "createExportName()"
   ]
  },
  {
   "cell_type": "markdown",
   "metadata": {},
   "source": [
    "## createDirectoryOptions\n",
    "\n",
    "This creates a ```Dropdown``` object with the ability to select multiple options. It includes two options at present and, hopefully, will have a third option soon (for xml)."
   ]
  },
  {
   "cell_type": "code",
   "execution_count": 7,
   "metadata": {
    "tags": []
   },
   "outputs": [],
   "source": [
    "#| export\n",
    "def createDirectoryOptions():\n",
    "    return dcc.Dropdown(\n",
    "        [\n",
    "            \"Images\",\n",
    "            \"States\",\n",
    "            # \"Export Transcripts\",\n",
    "        ],\n",
    "        [\"Images\"],\n",
    "        multi=True,\n",
    "        id=\"directory-options\",\n",
    "    )"
   ]
  },
  {
   "cell_type": "code",
   "execution_count": 8,
   "metadata": {
    "tags": []
   },
   "outputs": [
    {
     "data": {
      "text/plain": [
       "Dropdown(options=['Images', 'States'], value=['Images'], multi=True)"
      ]
     },
     "execution_count": 8,
     "metadata": {},
     "output_type": "execute_result"
    }
   ],
   "source": [
    "createDirectoryOptions()"
   ]
  },
  {
   "cell_type": "markdown",
   "metadata": {},
   "source": [
    "## createExportButton\n",
    "\n",
    "This returns a button that will be linked to the ```zipDownload``` object in the application through callbacks as well as calling the ```zipManuscript``` function."
   ]
  },
  {
   "cell_type": "code",
   "execution_count": 9,
   "metadata": {
    "tags": []
   },
   "outputs": [],
   "source": [
    "#| export\n",
    "def createExportButton():\n",
    "    return html.Button(\"Export Manuscript\", id=\"export-button\")"
   ]
  },
  {
   "cell_type": "code",
   "execution_count": 11,
   "metadata": {
    "tags": []
   },
   "outputs": [
    {
     "data": {
      "text/plain": [
       "Button(children='Export Manuscript', id='export-button')"
      ]
     },
     "execution_count": 11,
     "metadata": {},
     "output_type": "execute_result"
    }
   ],
   "source": [
    "createExportButton()"
   ]
  },
  {
   "cell_type": "markdown",
   "metadata": {},
   "source": [
    "## createZipDownload\n",
    "\n",
    "This returns a [```Download```](https://dash.plotly.com/dash-core-components/download) object whose purpose is to allow users to download the zipped manuscripts. This object does not have a visual element."
   ]
  },
  {
   "cell_type": "code",
   "execution_count": 14,
   "metadata": {
    "tags": []
   },
   "outputs": [],
   "source": [
    "#| export\n",
    "def createZipDownload():\n",
    "    return dcc.Download(id=\"export-download\")"
   ]
  },
  {
   "cell_type": "code",
   "execution_count": 17,
   "metadata": {
    "tags": []
   },
   "outputs": [
    {
     "data": {
      "text/html": [
       "\n",
       "        <iframe\n",
       "            width=\"100%\"\n",
       "            height=\"650\"\n",
       "            src=\"http://127.0.0.1:8050/\"\n",
       "            frameborder=\"0\"\n",
       "            allowfullscreen\n",
       "            \n",
       "        ></iframe>\n",
       "        "
      ],
      "text/plain": [
       "<IPython.lib.display.IFrame at 0x7fa4ccd2ecd0>"
      ]
     },
     "metadata": {},
     "output_type": "display_data"
    }
   ],
   "source": [
    "#| hide\n",
    "app = Dash(__name__)\n",
    "app.layout = html.Div([\n",
    "    createExportButton(),\n",
    "    createZipDownload()\n",
    "])\n",
    "\n",
    "import os\n",
    "currentDirectory = os.getcwd()\n",
    "# optional target, pick what you want\n",
    "target = os.path.join(currentDirectory, 'testZip.zip')\n",
    "\n",
    "@callback(\n",
    "    Output(\"export-download\", \"data\"),\n",
    "    Input(\"export-button\", \"n_clicks\"),\n",
    "    prevent_initial_call=True,\n",
    ")\n",
    "def func(n_clicks):\n",
    "    return dcc.send_file(\n",
    "        target\n",
    "    )\n",
    "\n",
    "\n",
    "if __name__ == \"__main__\":\n",
    "    app.run(debug=True)"
   ]
  },
  {
   "cell_type": "code",
   "execution_count": null,
   "metadata": {},
   "outputs": [],
   "source": [
    "#| hide\n",
    "import nbdev\n",
    "\n",
    "nbdev.nbdev_export()"
   ]
  }
 ],
 "metadata": {
  "kernelspec": {
   "display_name": "Python 3 (ipykernel)",
   "language": "python",
   "name": "python3"
  },
  "language_info": {
   "codemirror_mode": {
    "name": "ipython",
    "version": 3
   },
   "file_extension": ".py",
   "mimetype": "text/x-python",
   "name": "python",
   "nbconvert_exporter": "python",
   "pygments_lexer": "ipython3",
   "version": "3.11.4"
  }
 },
 "nbformat": 4,
 "nbformat_minor": 4
}
