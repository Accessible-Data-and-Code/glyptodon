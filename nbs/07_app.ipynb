{
 "cells": [
  {
   "cell_type": "markdown",
   "metadata": {},
   "source": [
    "# app\n",
    "\n",
    "> This module contains code for the running of the application"
   ]
  },
  {
   "cell_type": "code",
   "execution_count": 1,
   "metadata": {},
   "outputs": [],
   "source": [
    "#| default_exp app"
   ]
  },
  {
   "cell_type": "code",
   "execution_count": 2,
   "metadata": {
    "tags": []
   },
   "outputs": [],
   "source": [
    "#| hide\n",
    "from nbdev.showdoc import *"
   ]
  },
  {
   "cell_type": "markdown",
   "metadata": {
    "tags": []
   },
   "source": [
    "These are the relevant library calls to build out the UI and the calls to the model in order to set up the manuscript selection buttons."
   ]
  },
  {
   "cell_type": "code",
   "execution_count": 3,
   "metadata": {
    "tags": []
   },
   "outputs": [],
   "source": [
    "#| export\n",
    "from dash import Dash, State, Input, Output, callback, dcc, html\n",
    "from glyptodon.annotation import *\n",
    "from glyptodon.classes import *\n",
    "from glyptodon.export import *\n",
    "from glyptodon.information import *\n",
    "from glyptodon.manuscriptFiles import *\n",
    "from glyptodon.selection import *\n",
    "import re\n",
    "import os"
   ]
  },
  {
   "cell_type": "markdown",
   "metadata": {
    "tags": []
   },
   "source": [
    "## Object calls\n",
    "\n",
    "This next snippet of code calls and instantiates objects from ```selection```, ```information```, ```annotation```, and ```export```. In general, the id of an object returned by a method from these method calls will be a [kebab-case](https://www.freecodecamp.org/news/snake-case-vs-camel-case-vs-pascal-case-vs-kebab-case-whats-the-difference/) variant of the camelCase (e.g. the ```createManuscriptSelect()``` method call returns an object with the id ```manuscript-select```). Objects that are non-interactive or that don't need to be updated do not get ids."
   ]
  },
  {
   "cell_type": "code",
   "execution_count": 4,
   "metadata": {
    "tags": []
   },
   "outputs": [],
   "source": [
    "#| export\n",
    "\n",
    "#################\n",
    "### SELECTION ###\n",
    "#################\n",
    "selectionKey, manuscriptSelect = createManuscriptSelect()\n",
    "selectionInfo = createSelectionInfo()\n",
    "finalizeSelection = createFinalizeSelection()\n",
    "\n",
    "\n",
    "###################\n",
    "### INFORMATION ###\n",
    "###################\n",
    "# the ids for objects in inputObjects are: \"work\", \"author\", \"language\", \"country\", \"city\", \"institution\"\n",
    "metadata, inputObjects = createInputObjects()\n",
    "centuries, centuriesSlider = createCenturiesSlider()\n",
    "uploadImages, uploadManuscripts = createUploadObjects()\n",
    "informationInfo = createInformationInfo()\n",
    "# the id for saveNContinue is \"save-and-continue\"\n",
    "saveNContinue = createSaveNContinue()\n",
    "\n",
    "\n",
    "##################\n",
    "### ANNOTATION ###\n",
    "##################\n",
    "annotationTextArea = createAnnotationTextArea()\n",
    "pageSelector = createPageSelector()\n",
    "saveShapes = createSaveShapes()\n",
    "saveAnnotation = createSaveAnnotation()\n",
    "\n",
    "\n",
    "##############\n",
    "### EXPORT ###\n",
    "##############\n",
    "exportInfo = createExportInfo()\n",
    "exportName = createExportName()\n",
    "directoryOptions = createDirectoryOptions()\n",
    "exportButton = createExportButton()\n",
    "exportDownload = createExportDownload()"
   ]
  },
  {
   "cell_type": "markdown",
   "metadata": {
    "tags": []
   },
   "source": [
    "## Instantiating the application\n",
    "\n",
    "This first cell makes sure that the ```Dash``` application object is instantiated and able to be run. Additionally, it creates the initial layout for the application, in this case a layout based on ```Tabs```, an object which allows the user to select through the different layouts stored in a ```Tab``` object. Examples can be found in the [documentation](https://dash.plotly.com/dash-core-components/tabs)."
   ]
  },
  {
   "cell_type": "code",
   "execution_count": 5,
   "metadata": {
    "tags": []
   },
   "outputs": [],
   "source": [
    "#| export\n",
    "app = Dash(__name__)\n",
    "app.layout = html.Div(\n",
    "    [\n",
    "        dcc.Tabs(\n",
    "            id=\"tabs-object\",\n",
    "            value=\"selection\",\n",
    "            children=[\n",
    "                dcc.Tab(\n",
    "                    label=\"Selection\",\n",
    "                    value=\"selection\",\n",
    "                    children=[\n",
    "                        html.Div(\n",
    "                            [\n",
    "                                selectionInfo,\n",
    "                                html.Br(),\n",
    "                                manuscriptSelect,\n",
    "                                html.Br(),\n",
    "                                finalizeSelection,\n",
    "                            ]\n",
    "                        )\n",
    "                    ],\n",
    "                ),\n",
    "                dcc.Tab(\n",
    "                    label=\"Information\",\n",
    "                    value=\"information\",\n",
    "                    children=[\n",
    "                        html.Div(\n",
    "                            [\n",
    "                                informationInfo,\n",
    "                                html.Br(),\n",
    "                                html.Div(inputObjects),\n",
    "                                html.Br(),\n",
    "                                html.Div(\n",
    "                                    [\n",
    "                                        uploadImages,\n",
    "                                        uploadManuscripts,\n",
    "                                    ],\n",
    "                                    id=\"uploader-container\",\n",
    "                                ),\n",
    "                                html.Br(),\n",
    "                                centuriesSlider,\n",
    "                                html.Br(),\n",
    "                                saveNContinue,\n",
    "                            ]\n",
    "                        )\n",
    "                    ],\n",
    "                ),\n",
    "                dcc.Tab(\n",
    "                    label=\"Annotation\",\n",
    "                    value=\"annotation\",\n",
    "                    children=[\n",
    "                        html.Div(\n",
    "                            [\n",
    "                                pageSelector,\n",
    "                                dcc.Graph(\n",
    "                                    id=\"annotation-figure\",\n",
    "                                    config={\n",
    "                                        \"modeBarButtonsToAdd\": [\n",
    "                                            \"drawline\",\n",
    "                                            \"drawrect\",\n",
    "                                            \"eraseshape\",\n",
    "                                        ]\n",
    "                                    },\n",
    "                                    style={\n",
    "                                        \"height\": 900,\n",
    "                                        \"width\": 800,\n",
    "                                    },\n",
    "                                ),\n",
    "                                saveShapes,\n",
    "                                annotationTextArea,\n",
    "                                saveAnnotation,\n",
    "                            ]\n",
    "                        )\n",
    "                    ],\n",
    "                ),\n",
    "                dcc.Tab(\n",
    "                    label=\"Export\",\n",
    "                    value=\"export\",\n",
    "                    children=[\n",
    "                        html.Div(\n",
    "                            [\n",
    "                                exportInfo,\n",
    "                                exportName,\n",
    "                                directoryOptions,\n",
    "                                exportButton,\n",
    "                                exportDownload,\n",
    "                            ]\n",
    "                        )\n",
    "                    ],\n",
    "                ),\n",
    "            ],\n",
    "        ),\n",
    "        html.Div(id=\"current-tab\"),\n",
    "        html.Div(\n",
    "            id=\"dummy-output\",\n",
    "            style={\"display\": \"none\"},\n",
    "        ),\n",
    "    ]\n",
    ")"
   ]
  },
  {
   "cell_type": "markdown",
   "metadata": {
    "tags": []
   },
   "source": [
    "## A callback that effects layout\n",
    "\n",
    "The ```manuscriptSelect``` object has a **Create New Manuscript** option. If the user selects that option, we want a different layout to be available for the ```selection``` tab. This code cell sets up a [callback](https://dash.plotly.com/basic-callbacks) for the object to make sure that there is a ```bool``` to handle the conditional logic. Additionally, this callback is used to make sure that the correct manuscript is selected from the available options.\n",
    "\n",
    "The output is a 'dummy' object created in order to have a function with no real output as per the [suggestions here](https://community.plotly.com/t/app-callback-without-an-output/5502/36)."
   ]
  },
  {
   "cell_type": "code",
   "execution_count": 6,
   "metadata": {
    "tags": []
   },
   "outputs": [],
   "source": [
    "#| export\n",
    "newManuscript = False\n",
    "selectedManuscript = selectionKey[\n",
    "    \"Stavronikita Monastery Greek handwritten document Collection no.53\"\n",
    "]\n",
    "\n",
    "\n",
    "@callback(\n",
    "    Output(\"work\", \"placeholder\",),\n",
    "    Output(\"author\", \"placeholder\",),\n",
    "    Output(\"language\", \"placeholder\",),\n",
    "    Output(\"country\", \"placeholder\",),\n",
    "    Output(\"city\", \"placeholder\",),\n",
    "    Output(\"institution\", \"placeholder\",),\n",
    "    Output(\"centuries-slider\", \"value\",),\n",
    "    Output(\"uploader-container\",\"style\"), # This determines if uploaders are displayed\n",
    "    Input(\"manuscript-select\", \"value\"),\n",
    "    suppress_callback_exceptions=True,\n",
    ")\n",
    "def selectManuscript(work):\n",
    "    if work == \"Create New Manuscript\":\n",
    "        newManuscript = True\n",
    "        selectedManuscript = None\n",
    "        return \"\", \"\", \"\", \"\", \"\", \"\", [1, 20], {\"display\": \"none\"}\n",
    "    else:\n",
    "        selectedManuscript = selectionKey[work]\n",
    "        work = selectedManuscript[1][\"Work\"]\n",
    "        author = selectedManuscript[1][\"Author\"]\n",
    "        language = selectedManuscript[1][\"Language\"]\n",
    "        country = selectedManuscript[1][\"Country\"]\n",
    "        city = selectedManuscript[1][\"City\"]\n",
    "        institution = selectedManuscript[1][\"Institution\"]\n",
    "\n",
    "        ### Converts the string containing centuries into list containing the centuries as integers\n",
    "        # This stores the string as a list of words. There are strings with two words and four words\n",
    "        centuriesAsList = selectedManuscript[1][\"Centuries\"].split()\n",
    "\n",
    "        # This picks out the relevant words and strips them of everything but the integer values\n",
    "        if len(centuriesAsList) == 2:\n",
    "            centuriesValue = [\n",
    "                int(re.sub(\"[^0-9]\", \"\", centuriesAsList[0])),\n",
    "                int(re.sub(\"[^0-9]\", \"\", centuriesAsList[0])),\n",
    "            ]\n",
    "        else:\n",
    "            centuriesValue = [\n",
    "                int(re.sub(\"[^0-9]\", \"\", centuriesAsList[0])),\n",
    "                int(re.sub(\"[^0-9]\", \"\", centuriesAsList[2])),\n",
    "            ]\n",
    "        return work, author, language, country, city, institution, centuriesValue, {\"display\": \"block\"}"
   ]
  },
  {
   "cell_type": "markdown",
   "metadata": {},
   "source": [
    "## Finalize selection callback\n",
    "\n",
    "When the ```finalizeSelection``` button is clicked, we need to start creating the figures that will be used in the ```annotation-figure``` object. This is a CPU intensive process (taking roughly 20 seconds to perform on my machine), so it isn't something performed trivially."
   ]
  },
  {
   "cell_type": "code",
   "execution_count": 7,
   "metadata": {},
   "outputs": [],
   "source": [
    "#| export\n",
    "@callback(\n",
    "    Output(\"page-selector\", \"options\"),\n",
    "    Output(\"page-selector\", \"value\"),\n",
    "    Output(\"tabs-object\",\"value\"),\n",
    "    Input(\"finalize-selection\", \"n_clicks\"),\n",
    "    prevent_initial_call=True,\n",
    ")\n",
    "def finalizeSelectionCallback(clicks):\n",
    "    dropdownOptions = []\n",
    "    relativePaths = manuscriptImages(selectedManuscript[0])\n",
    "\n",
    "    index = 1\n",
    "    for path in relativePaths:\n",
    "        dropdownOptions.append({\"label\": f\"Page {index}\", \"value\": path})\n",
    "        index = index + 1\n",
    "\n",
    "    return dropdownOptions, dropdownOptions[0][\"value\"], \"information\""
   ]
  },
  {
   "cell_type": "markdown",
   "metadata": {},
   "source": [
    "## Page Selector callback\n",
    "\n",
    "When the page selector changes its value, we want to make it so that a particular image is displayed as the figure in the ```Graph``` object with ```annotation-figure``` id."
   ]
  },
  {
   "cell_type": "code",
   "execution_count": 8,
   "metadata": {},
   "outputs": [],
   "source": [
    "#| export\n",
    "@callback(\n",
    "    Output(\"annotation-figure\", \"figure\"),\n",
    "    Input(\"page-selector\", \"value\"),\n",
    "    prevent_initial_call=True,\n",
    ")\n",
    "def pageSelectorCallback(path):\n",
    "    fig = createAnnotationFigure(path)\n",
    "\n",
    "    imageName = path.split(\"/\")[-1]  # This takes the file name in the directory\n",
    "    imageName = imageName.split(\".\")[0]  # This assumes\n",
    "\n",
    "    statesDirectory = os.path.join(selectedManuscript[0], \"states\")\n",
    "    linesDirectory = os.path.join(statesDirectory, \"lines\")\n",
    "    bboxesDirectory = os.path.join(statesDirectory, \"bboxes\")\n",
    "    \n",
    "    # Instantiate lines from csv and add them to figure\n",
    "    for file in os.listdir(linesDirectory):\n",
    "        fileName = file.split(\".\")[0]\n",
    "        if fileName == imageName:\n",
    "            figLines = csvToLines(os.path.join(linesDirectory, file))\n",
    "\n",
    "            for line in figLines:\n",
    "                fig.add_shape(\n",
    "                    type=line.type,\n",
    "                    x0=line.x0,\n",
    "                    y0=line.y0,\n",
    "                    x1=line.x1,\n",
    "                    y1=line.y1,\n",
    "                    line=line.line,\n",
    "                    opactiy=line.opacity,\n",
    "                )\n",
    "\n",
    "    # Instantiate bboxes from csv and add them to figure\n",
    "    for file in os.listdir(bboxesDirectory):\n",
    "        fileName = file.split(\".\")[0]\n",
    "        if fileName == imageName:\n",
    "            figBBoxes = csvToBBoxes(os.path.join(bboxesDirectory, file))\n",
    "            \n",
    "            for bbox in figBBoxes:\n",
    "                fig.add_shape(\n",
    "                    type=bbox.type,\n",
    "                    x0=bbox.x0,\n",
    "                    y0=bbox.y0,\n",
    "                    x1=bbox.x1,\n",
    "                    y1=bbox.y1,\n",
    "                    line=bbox.line,\n",
    "                    opacity=bbox.opacity,\n",
    "                )\n",
    "\n",
    "    return fig"
   ]
  },
  {
   "cell_type": "markdown",
   "metadata": {},
   "source": [
    "## Save Shapes callback\n",
    "\n",
    "This callback takes the current [```state```](https://dash.plotly.com/basic-callbacks#dash-app-with-state) of the figure and the textarea to convert it into sorted objects where the ```BBox``` objects have annotations from the textarea."
   ]
  },
  {
   "cell_type": "code",
   "execution_count": 9,
   "metadata": {},
   "outputs": [],
   "source": [
    "#| export\n",
    "@callback(\n",
    "    Output(\"dummy-output\",\"children\"),\n",
    "    Input(\"save-shapes\", \"n_clicks\"),\n",
    "    State(\"annotation-figure\", \"relayoutData\"),\n",
    "    State(\"page-selector\", \"value\"),\n",
    "    prevent_initial_call=True,\n",
    ")\n",
    "def saveShapesCallback(clicks, shapes, path):\n",
    "    dictLines = []\n",
    "    dictBBoxes = []\n",
    "    for shape in shapes:\n",
    "        if shape[\"type\"] == \"line\":\n",
    "            dictLines.append(shape)\n",
    "        if shape[\"type\"] == \"rect\":\n",
    "            dictBBoxes.append(shape)\n",
    "\n",
    "    bboxes = []\n",
    "    lines = []\n",
    "    for line in dictLines:\n",
    "        bboxes.append([])\n",
    "        lines.append(\n",
    "            Line(\n",
    "                x0=int(line[\"x0\"]),\n",
    "                y0=int(line[\"y0\"]),\n",
    "                x1=int(line[\"x1\"]),\n",
    "                y1=int(line[\"y1\"]),\n",
    "            )\n",
    "        )\n",
    "\n",
    "    Line.sortLines(lines)\n",
    "\n",
    "    tempBBoxes = []\n",
    "    for bbox in dictBBoxes:\n",
    "        tempBBoxes.append(\n",
    "            BBox(\n",
    "                x0=int(bbox[\"x0\"]),\n",
    "                y0=int(bbox[\"y0\"]),\n",
    "                x1=int(bbox[\"x1\"]),\n",
    "                y1=int(bbox[\"y1\"]),\n",
    "            )\n",
    "        )\n",
    "\n",
    "    for line in lines:\n",
    "        for bbox in tempBBoxes:\n",
    "            if bbox.isLine(line):\n",
    "                bboxes[line.index - 1].append(bbox)\n",
    "\n",
    "    flattenedBBoxes = []\n",
    "    for line in bboxes:\n",
    "        BBox.sortBBoxes(line)\n",
    "        flattenedBBoxes = flattenedBBoxes + line\n",
    "\n",
    "    fig = createAnnotationFigure(path)\n",
    "\n",
    "    imageName = path.split(\"/\")[-1]  # This takes the file name in the directory\n",
    "    imageName = imageName.split(\".\")[0]  # This assumes\n",
    "\n",
    "    statesDirectory = os.path.join(selectedManuscript[0], \"states\")\n",
    "    linesDirectory = os.path.join(statesDirectory, \"lines\")\n",
    "    bboxesDirectory = os.path.join(statesDirectory, \"bboxes\")\n",
    "\n",
    "    Line.linesToCSV(linesDirectory, lines, imageName)\n",
    "    BBox.bboxesToCSV(bboxesDirectory, flattenedBBoxes, imageName)\n",
    "    \n",
    "    dummy = [\"1\",\"2\",\"3\"]\n",
    "    return dummy"
   ]
  },
  {
   "cell_type": "markdown",
   "metadata": {},
   "source": [
    "## Save and Continue callback [low priority metadata saving]\n",
    "\n",
    "When the ```saveNContinue``` button is clicked, we need"
   ]
  },
  {
   "cell_type": "markdown",
   "metadata": {},
   "source": [
    "## Running the application\n",
    "\n",
    "This cell contains the code that runs the application. It comes logically after all the prior code. To see the application on the local server, use http://127.0.0.1:8050/ as the website link to your locally run server."
   ]
  },
  {
   "cell_type": "code",
   "execution_count": 10,
   "metadata": {
    "tags": []
   },
   "outputs": [
    {
     "data": {
      "text/html": [
       "\n",
       "        <iframe\n",
       "            width=\"100%\"\n",
       "            height=\"650\"\n",
       "            src=\"http://127.0.0.1:8050/\"\n",
       "            frameborder=\"0\"\n",
       "            allowfullscreen\n",
       "            \n",
       "        ></iframe>\n",
       "        "
      ],
      "text/plain": [
       "<IPython.lib.display.IFrame at 0x7f3bec33bdd0>"
      ]
     },
     "metadata": {},
     "output_type": "display_data"
    }
   ],
   "source": [
    "#| export\n",
    "if __name__ == \"__main__\":\n",
    "    app.run(debug=True)"
   ]
  },
  {
   "cell_type": "code",
   "execution_count": 11,
   "metadata": {
    "tags": []
   },
   "outputs": [
    {
     "name": "stdout",
     "output_type": "stream",
     "text": [
      "\u001b[1;31m---------------------------------------------------------------------------\u001b[0m\n",
      "\u001b[1;31mTypeError\u001b[0m                                 Traceback (most recent call last)\n",
      "\u001b[1;31mTypeError\u001b[0m: string indices must be integers, not 'str'\n",
      "\n"
     ]
    }
   ],
   "source": [
    "#| hide\n",
    "import nbdev\n",
    "\n",
    "nbdev.nbdev_export()"
   ]
  }
 ],
 "metadata": {
  "kernelspec": {
   "display_name": "Python 3 (ipykernel)",
   "language": "python",
   "name": "python3"
  },
  "language_info": {
   "codemirror_mode": {
    "name": "ipython",
    "version": 3
   },
   "file_extension": ".py",
   "mimetype": "text/x-python",
   "name": "python",
   "nbconvert_exporter": "python",
   "pygments_lexer": "ipython3",
   "version": "3.11.4"
  }
 },
 "nbformat": 4,
 "nbformat_minor": 4
}
