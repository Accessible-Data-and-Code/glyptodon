{
 "cells": [
  {
   "cell_type": "markdown",
   "metadata": {},
   "source": [
    "# Export\n",
    "\n",
    "> This module contains code for the export tab of the application"
   ]
  },
  {
   "cell_type": "code",
   "execution_count": null,
   "metadata": {},
   "outputs": [],
   "source": [
    "#| default_exp app"
   ]
  },
  {
   "cell_type": "code",
   "execution_count": null,
   "metadata": {},
   "outputs": [],
   "source": [
    "#| hide\n",
    "from nbdev.showdoc import *"
   ]
  },
  {
   "cell_type": "markdown",
   "metadata": {},
   "source": [
    "These are the relevant library calls to build out the UI and the calls to the model in order to set up the manuscript selection buttons."
   ]
  },
  {
   "cell_type": "code",
   "execution_count": 8,
   "metadata": {
    "tags": []
   },
   "outputs": [],
   "source": [
    "#| export\n",
    "from dash import Dash, Input, Output, callback, dcc, html\n",
    "from glyptodon.annotation import *\n",
    "from glyptodon.classes import *\n",
    "from glyptodon.export import *\n",
    "from glyptodon.information import *\n",
    "from glyptodon.manuscriptFiles import *\n",
    "from glyptodon.selection import *"
   ]
  },
  {
   "cell_type": "markdown",
   "metadata": {
    "tags": []
   },
   "source": [
    "## Instantiating the application\n",
    "\n",
    "This first cell makes sure that the ```Dash``` application object is instantiated and able to be run. Additionally, it creates the initial layout for the application, in this case a layout based on ```Tabs```, an object which allows the user to select through the different layouts stored in a ```Tab``` object. Examples can be found in the [documentation](https://dash.plotly.com/dash-core-components/tabs)."
   ]
  },
  {
   "cell_type": "code",
   "execution_count": 9,
   "metadata": {
    "tags": []
   },
   "outputs": [],
   "source": [
    "#| export\n",
    "app = Dash(__name__)\n",
    "app.layout = html.Div(\n",
    "    [\n",
    "        dcc.Tabs(\n",
    "            id=\"tabs-object\",\n",
    "            value=\"selection\",\n",
    "            children=[\n",
    "                dcc.Tab(label=\"Selection\", value=\"selection\"),\n",
    "                dcc.Tab(label=\"Information\", value=\"information\"),\n",
    "                dcc.Tab(label=\"Annotation\", value=\"annotation\"),\n",
    "                dcc.Tab(label=\"Export\", value=\"export\"),\n",
    "            ],\n",
    "        ),\n",
    "        html.Div(id=\"current-tab\"),\n",
    "    ]\n",
    ")"
   ]
  },
  {
   "cell_type": "markdown",
   "metadata": {
    "tags": []
   },
   "source": [
    "## Object calls\n",
    "\n",
    "This next snippet of code calls and instantiates objects from ```selection```, ```information```, ```annotation```, and ```export```. In general, the id of an object returned by a method from these method calls will be a [kebab-case](https://www.freecodecamp.org/news/snake-case-vs-camel-case-vs-pascal-case-vs-kebab-case-whats-the-difference/) variant of the camelCase (e.g. the ```createManuscriptSelect()``` method call returns an object with the id ```manuscript-select```). Objects that are non-interactive or that don't need to be updated do not get ids."
   ]
  },
  {
   "cell_type": "code",
   "execution_count": 10,
   "metadata": {
    "tags": []
   },
   "outputs": [],
   "source": [
    "#| export\n",
    "\n",
    "#################\n",
    "### SELECTION ###\n",
    "#################\n",
    "selectionKey, manuscriptSelect = createManuscriptSelect()\n",
    "selectionInfo = createSelectionInfo()\n",
    "finalizeSelection = createFinalizeSelection()\n",
    "\n",
    "\n",
    "###################\n",
    "### INFORMATION ###\n",
    "###################\n",
    "# the ids for objects in inputObjects are: \"work\", \"author\", \"language\", \"country\", \"city\", \"institution\"\n",
    "metadata, inputObjects = createInputObjects()\n",
    "centuries, centuriesSlider = createCenturiesSlider()\n",
    "uploadImages, uploadeManuscripts = createUploadObjects()\n",
    "informationInfo = createInformationInfo()\n",
    "# the id for saveNContinue is \"save-and-continue\"\n",
    "saveNContinue = createSaveNContinue()\n",
    "\n",
    "\n",
    "##################\n",
    "### ANNOTATION ###\n",
    "##################\n",
    "annotationTextArea = createAnnotationTextArea()\n",
    "pageSelector = createPageSelector()\n",
    "\n",
    "\n",
    "##############\n",
    "### EXPORT ###\n",
    "##############\n",
    "exportInfo = createExportInfo()\n",
    "exportName = createExportName()\n",
    "directoryOptions = createDirectoryOptions()\n",
    "exportButton = createExportButton()\n",
    "exportDownload = createExportDownload()"
   ]
  },
  {
   "cell_type": "markdown",
   "metadata": {
    "tags": []
   },
   "source": [
    "## A callback that effects layout\n",
    "\n",
    "The ```manuscriptSelect``` object has a **Create New Manuscript** option. If the user selects that option, we want a different layout to be available for the ```selection``` tab. This code cell sets up a [callback](https://dash.plotly.com/basic-callbacks) for the object to make sure that there is a ```bool``` to handle the conditional logic. Additionally, this callback is used to make sure that the correct manuscript is selected from the available options.\n",
    "\n",
    "The output is a 'dummy' object created in order to have a function with no real output as per the [suggestions here](https://community.plotly.com/t/app-callback-without-an-output/5502/36)."
   ]
  },
  {
   "cell_type": "code",
   "execution_count": 11,
   "metadata": {
    "tags": []
   },
   "outputs": [],
   "source": [
    "newManuscript = False\n",
    "selectedManuscript = selectionKey[\n",
    "    \"Stavronikita Monastery Greek handwritten document Collection no.53\"\n",
    "]\n",
    "\n",
    "\n",
    "@callback(\n",
    "    Output(\"work\", \"placeholder\"),\n",
    "    Output(\"author\", \"placeholder\"),\n",
    "    Output(\"language\", \"placeholder\"),\n",
    "    Output(\"country\", \"placeholder\"),\n",
    "    Output(\"city\", \"placeholder\"),\n",
    "    Output(\"institution\", \"placeholder\"),\n",
    "    Output(\"centuries-slider\", \"value\"),\n",
    "    Input(\"manuscript-select\", \"value\"),\n",
    "    allow_duplicate=True,\n",
    "    prevent_initial_call=True,  # This is here to avoid tripping callbacks from the output widgets at the very beginning\n",
    "    suppress_callback_exceptions=True,\n",
    ")\n",
    "def selectManuscript(work):\n",
    "    if work == \"Create New Manuscript\":\n",
    "        newManuscript = True\n",
    "        selectedManuscript = None\n",
    "        return \"\", \"\", \"\", \"\", \"\", \"\", [1, 20]\n",
    "    else:\n",
    "        selectedManuscript = selectionKey[work]\n",
    "        work = selectedManuscript[1][\"Work\"]\n",
    "        author = selectedManuscript[1][\"Author\"]\n",
    "        language = selectedManuscript[1][\"Language\"]\n",
    "        country = selectedManuscript[1][\"Country\"]\n",
    "        city = selectedManuscript[1][\"City\"]\n",
    "        institution = selectedManuscript[1][\"Institution\"]\n",
    "\n",
    "        ### Converts the string containing centuries into list containing the centuries as integers\n",
    "        # This stores the string as a list of words. There are strings with two words and four words\n",
    "        centuriesAsList = selectedManuscript[1][\"Centuries\"].split()\n",
    "\n",
    "        # This picks out the relevant words and strips them of everything but the integer values\n",
    "        if len(centuriesAsList) == 2:\n",
    "            centuriesValue = [\n",
    "                int(re.sub(\"[^0-9]\", \"\", centuriesAsList[0])),\n",
    "                int(re.sub(\"[^0-9]\", \"\", centuriesAsList[0])),\n",
    "            ]\n",
    "        else:\n",
    "            centuriesValue = [\n",
    "                int(re.sub(\"[^0-9]\", \"\", centuriesAsList[0])),\n",
    "                int(re.sub(\"[^0-9]\", \"\", centuriesAsList[2])),\n",
    "            ]\n",
    "        return work, author, language, country, city, institution, centuriesValue"
   ]
  },
  {
   "cell_type": "markdown",
   "metadata": {
    "tags": []
   },
   "source": [
    "## Establishing layout contents\n",
    "\n",
    "The way that tabs are changed and content is displayed is through a callback decorator run first when the application is started and then whenever a change is made in an object registered to a callback. This callback establishes the displayed tabs and what is displayed inside of them."
   ]
  },
  {
   "cell_type": "code",
   "execution_count": 12,
   "metadata": {
    "tags": []
   },
   "outputs": [],
   "source": [
    "#| export\n",
    "@callback(Output(\"current-tab\", \"children\"), Input(\"tabs-object\", \"value\"))\n",
    "def renderContent(tab):\n",
    "    if tab == \"selection\":\n",
    "        return html.Div(\n",
    "            [\n",
    "                selectionInfo,\n",
    "                html.Br(),\n",
    "                manuscriptSelect,\n",
    "                html.Br(),\n",
    "                finalizeSelection,\n",
    "            ]\n",
    "        )\n",
    "    elif tab == \"information\":\n",
    "        if newManuscript:\n",
    "            return html.Div(\n",
    "                [\n",
    "                    informationInfo,\n",
    "                    html.Br(),\n",
    "                    html.Div(inputObjects),\n",
    "                    html.Br(),\n",
    "                    html.Div(\n",
    "                        [\n",
    "                            uploadImages,\n",
    "                            uploadManuscripts,\n",
    "                        ]\n",
    "                    ),\n",
    "                    html.Br(),\n",
    "                    saveNContinue,\n",
    "                ]\n",
    "            )\n",
    "        else:\n",
    "            return html.Div(\n",
    "                [\n",
    "                    informationInfo,\n",
    "                    html.Br(),\n",
    "                    html.Div(inputObjects),\n",
    "                    html.Br(),\n",
    "                    saveNContinue,\n",
    "                ]\n",
    "            )          \n",
    "    elif tab == \"annotation\":\n",
    "        return html.Div(\n",
    "            [\n",
    "                dcc.Graph(\n",
    "                    id=\"annotation-figure\",\n",
    "                    config={\"modeBarButtonsToAdd\": [\"drawline\", \"drawrect\", \"eraseshape\"]},\n",
    "                    style={\"height\":900,\n",
    "                          \"width\":800,\n",
    "                         },\n",
    "                ),\n",
    "                pageSelector,\n",
    "                annotationTextArea,\n",
    "            ]\n",
    "        )\n",
    "    elif tab == \"export\":\n",
    "        return html.Div(\n",
    "            [\n",
    "                exportInfo,\n",
    "                exportName,\n",
    "                directoryOptions,\n",
    "                exportButton,\n",
    "                exportDownload,\n",
    "            ]\n",
    "        )"
   ]
  },
  {
   "cell_type": "markdown",
   "metadata": {},
   "source": [
    "## Running the application\n",
    "\n",
    "This cell contains the code that runs the application. It comes logically after all the prior code. To see the application on the local server, use http://127.0.0.1:8050/ as the website link to your locally run server."
   ]
  },
  {
   "cell_type": "code",
   "execution_count": null,
   "metadata": {
    "tags": []
   },
   "outputs": [],
   "source": [
    "#| export\n",
    "if __name__ == \"__main__\":\n",
    "    app.run(debug=True)"
   ]
  },
  {
   "cell_type": "code",
   "execution_count": null,
   "metadata": {},
   "outputs": [],
   "source": [
    "#| hide\n",
    "import nbdev\n",
    "\n",
    "nbdev.nbdev_export()"
   ]
  }
 ],
 "metadata": {
  "kernelspec": {
   "display_name": "Python 3 (ipykernel)",
   "language": "python",
   "name": "python3"
  },
  "language_info": {
   "codemirror_mode": {
    "name": "ipython",
    "version": 3
   },
   "file_extension": ".py",
   "mimetype": "text/x-python",
   "name": "python",
   "nbconvert_exporter": "python",
   "pygments_lexer": "ipython3",
   "version": "3.11.4"
  }
 },
 "nbformat": 4,
 "nbformat_minor": 4
}
