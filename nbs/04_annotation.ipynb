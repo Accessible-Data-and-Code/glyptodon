{
 "cells": [
  {
   "cell_type": "markdown",
   "metadata": {},
   "source": [
    "# annotation\n",
    "\n",
    "> This module contains code for the annotation tab of the application"
   ]
  },
  {
   "cell_type": "code",
   "execution_count": null,
   "metadata": {},
   "outputs": [],
   "source": [
    "#| default_exp annotation"
   ]
  },
  {
   "cell_type": "code",
   "execution_count": null,
   "metadata": {},
   "outputs": [],
   "source": [
    "#| hide\n",
    "from nbdev.showdoc import *"
   ]
  },
  {
   "cell_type": "markdown",
   "metadata": {},
   "source": [
    "These are the relevant library calls to build out the UI and the calls to the model in order to set up the manuscript selection buttons."
   ]
  },
  {
   "cell_type": "code",
   "execution_count": 1,
   "metadata": {},
   "outputs": [],
   "source": [
    "#| hide\n",
    "# This library is only for testing the layout. It does not need to be called extraneously\n",
    "from dash import Dash"
   ]
  },
  {
   "cell_type": "code",
   "execution_count": 2,
   "metadata": {
    "tags": []
   },
   "outputs": [],
   "source": [
    "#| export\n",
    "from dash import dcc, html\n",
    "import plotly.express as px\n",
    "import cv2"
   ]
  },
  {
   "cell_type": "markdown",
   "metadata": {},
   "source": [
    "## createAnnotationTextArea\n",
    "\n",
    "This creates a ```Texarea``` object. Without changing some of the JavaScript code, the ```Textarea``` object does not have the ability to display line numbers."
   ]
  },
  {
   "cell_type": "code",
   "execution_count": null,
   "metadata": {
    "tags": []
   },
   "outputs": [],
   "source": [
    "#| export\n",
    "def createAnnotationTextArea():\n",
    "    return dcc.Textarea(id=\"annotation-text-area\",value=\"Enter transcription text here!\",style={\"width\":\"100%\",\"height\":285})"
   ]
  },
  {
   "cell_type": "code",
   "execution_count": null,
   "metadata": {
    "tags": []
   },
   "outputs": [],
   "source": [
    "#| hide\n",
    "app = Dash(__name__)\n",
    "\n",
    "app.layout = html.Div(\n",
    "    [\n",
    "        createAnnotationTextArea()\n",
    "    ]\n",
    ")\n",
    "\n",
    "if __name__ == \"__main__\":\n",
    "    app.run(debug=True)"
   ]
  },
  {
   "cell_type": "markdown",
   "metadata": {},
   "source": [
    "## createPageSelector\n",
    "\n",
    "For any manuscript that is in use, it is not unexpected for there to be multiple pages. In the case that there are multiple pages, it would be good for users to be able to select them. To that end, this function creates a [```Dropdown```](https://dash.plotly.com/dash-core-components/dropdown) object. By the nature of this application, the ```options``` will have to be dynamically assigned during run time."
   ]
  },
  {
   "cell_type": "code",
   "execution_count": null,
   "metadata": {
    "tags": []
   },
   "outputs": [],
   "source": [
    "#| export\n",
    "def createPageSelector():\n",
    "    return dcc.Dropdown(id=\"page-selector\")"
   ]
  },
  {
   "cell_type": "code",
   "execution_count": null,
   "metadata": {
    "tags": []
   },
   "outputs": [],
   "source": [
    "#| hide\n",
    "test = createPageSelector()\n",
    "test.options = ['a','b','c']\n",
    "\n",
    "test"
   ]
  },
  {
   "cell_type": "markdown",
   "metadata": {},
   "source": [
    "## createSaveShapes\n",
    "\n",
    "In my testing, I found that trying to keep the ```BBox``` and ```Line``` classes automatically saving to a ```csv``` was problematic. It used enough computational resources to be frustrating and required quick algorithms to parse a dictionary into the desired format that, by all accounts, would take a time to execute of searching the dictionary (so $D$ elements) times the amount of time to sort the lines ($L$ elements) times the amount of time to sort the bboxes on two axes ($B^2$), leading to just enough resources being used to take a little time and all of it being run through the Python-Dash-JS pipeline just made me worry that computers with lower specs would have a difficult time working through it.\n",
    "\n",
    "This button is to be called in order to save the current shapes on the annotation figure."
   ]
  },
  {
   "cell_type": "code",
   "execution_count": null,
   "metadata": {},
   "outputs": [],
   "source": [
    "#| export\n",
    "def createSaveShapes():\n",
    "    return html.Button(\"Save Shapes\", id=\"save-shapes\")"
   ]
  },
  {
   "cell_type": "markdown",
   "metadata": {},
   "source": [
    "## createSaveAnnotation\n",
    "\n",
    "Similar to the motivation to the ```createSaveShapes``` function, this is necessary in order to make sure to only take the state of the annotation figure and use it for adding the annotation to the BBox class before writing the classes to memory."
   ]
  },
  {
   "cell_type": "code",
   "execution_count": null,
   "metadata": {},
   "outputs": [],
   "source": [
    "#| export\n",
    "def createSaveAnnotation():\n",
    "    return html.Button(\"Save Annotation\", id=\"save-annotation\")"
   ]
  },
  {
   "cell_type": "markdown",
   "metadata": {},
   "source": [
    "## createNextTab\n",
    "\n",
    "To keep users able to move on to the next tab without using the tab object, this button is created. It's not a complicated button."
   ]
  },
  {
   "cell_type": "code",
   "execution_count": null,
   "metadata": {},
   "outputs": [],
   "source": [
    "#| export\n",
    "def createNextTab():\n",
    "    return html.Button(\"Next Tab\", id=\"next-tab\")"
   ]
  },
  {
   "cell_type": "markdown",
   "metadata": {},
   "source": [
    "## createAnnotationFigure\n",
    "\n",
    "The heart of this program is right here. This is how boxes will be drawn. In order to do this, we will use the [```Imshow```](https://plotly.com/python/imshow/) chart from the ```Plotly``` library. There are [ways](https://dash.plotly.com/annotations) of linking this figure into the application. Fortunately or unfortunately, it is not possible to keep one plot object with an image inside it. Instead, the figure needs to be made again and again for each image fed into it. Then, this plot is wrapped in the ```Graph``` object from the ```Dash``` library to be given an ```id``` for callback features. This wrapping needs to be handled in the ```Dash``` app itself, not the view calls.\n",
    "\n",
    "This function takes in a pathway to a manuscript image as a string and returns a ```Plotly``` figure.\n",
    "\n",
    "Due to some quirks of the ```cv2``` library, using ```cv2.imread()``` will return an image with BGR ordering of color channels, not RGB ordering of color channels. Computer monitors use the RGB color scheme as a way of representing colors for display:\n",
    "\n",
    "<img\n",
    "     style = \"display:block;\n",
    "              margin-left:auto;\n",
    "              margin-right: auto;\n",
    "              width:20%;\"\n",
    "     src = \"https://upload.wikimedia.org/wikipedia/commons/9/97/RGB_color_wheel_pixel_30.svg\"\n",
    "/>\n",
    "\n",
    "In an LED monitor, every pixel is made of a red, blue, and green LED that will show different intensities of colored light. Combining these pixels together into one system allows us to display images, movies, videos, etc... by coordingating the display of colors for each LED in each pixel of a monitor. What does this have to do with images? In mathematical terms, we might say that an image $I$ will have scalar intensities associated to three different coordinates. The first are the traditional $(x,y)$ Cartesian coordinate structure, but the third coordinate is color. We might say then that an individual LED at some position on the monitor will display the value $I(x_0,y_0,c)$ at the LED (where $c$ is theoretically the associated color channel). Most monitors use RGB (where red is the first index, green is the second index, and green is the third index), but the ```cv2``` library uses the BGR scheme. It is essentially the same as the RGB scheme, but a computer monitor will display red as if it is blue and blue as if it is red, distorting the image. To fix this, this function automatically reverses the ordering of BGR to RGB, hence the slicing."
   ]
  },
  {
   "cell_type": "code",
   "execution_count": 3,
   "metadata": {
    "tags": []
   },
   "outputs": [],
   "source": [
    "#| export\n",
    "def createAnnotationFigure(path):\n",
    "    img = cv2.imread(path)\n",
    "    # This reorders the color channels (the first two indices relate to the intensity values of individual colors while the last index indicates what\n",
    "    img = img[:,:,::-1]\n",
    "    fig = px.imshow(img)\n",
    "    fig.update_layout(dragmode='drawrect',\n",
    "                  # style of new shapes\n",
    "                  newshape=dict(line_color='grey',\n",
    "                                opacity=0.6))\n",
    "    return fig"
   ]
  },
  {
   "cell_type": "code",
   "execution_count": null,
   "metadata": {
    "tags": []
   },
   "outputs": [],
   "source": [
    "#| hide\n",
    "from time import perf_counter\n",
    "tic = perf_counter()\n",
    "fig = createAnnotationFigure('glyptodon/manuscripts/stvrnktmnstrygrkcllctnn.53/images/15_01_0053_0006_f_3r_res.png')\n",
    "toc = perf_counter()\n",
    "print(toc-tic)\n",
    "\n",
    "tic = perf_counter()\n",
    "fig.show(config={'modeBarButtonsToAdd':['drawline','drawrect','eraseshape']})\n",
    "toc = perf_counter()\n",
    "print(toc-tic)"
   ]
  },
  {
   "cell_type": "code",
   "execution_count": null,
   "metadata": {
    "tags": []
   },
   "outputs": [],
   "source": [
    "#| hide\n",
    "pathOptions = [\n",
    "    \"glyptodon/manuscripts/stvrnktmnstrygrkcllctnn.53/images/15_01_0053_0011_f_5v_res.png\",\n",
    "    \"glyptodon/manuscripts/stvrnktmnstrygrkcllctnn.53/images/15_01_0053_0006_f_3r_res.png\",\n",
    "]\n",
    "config = {\"modeBarButtonsToAdd\": [\"drawline\", \"drawrect\", \"eraseshape\"]}\n",
    "\n",
    "app = Dash(__name__)\n",
    "app.layout = html.Div(\n",
    "    [\n",
    "        dcc.Graph(\n",
    "            id=\"test-image\",\n",
    "            figure=createAnnotationFigure(pathOptions[1]),\n",
    "            config=config,\n",
    "            style={\n",
    "                \"height\": 900,\n",
    "                \"width\": 800,\n",
    "            },\n",
    "        )\n",
    "    ]\n",
    ")\n",
    "\n",
    "if __name__ == \"__main__\":\n",
    "    app.run()"
   ]
  },
  {
   "cell_type": "code",
   "execution_count": null,
   "metadata": {},
   "outputs": [],
   "source": [
    "#| hide\n",
    "import nbdev\n",
    "\n",
    "nbdev.nbdev_export()"
   ]
  }
 ],
 "metadata": {
  "kernelspec": {
   "display_name": "Python 3 (ipykernel)",
   "language": "python",
   "name": "python3"
  },
  "language_info": {
   "codemirror_mode": {
    "name": "ipython",
    "version": 3
   },
   "file_extension": ".py",
   "mimetype": "text/x-python",
   "name": "python",
   "nbconvert_exporter": "python",
   "pygments_lexer": "ipython3",
   "version": "3.11.4"
  }
 },
 "nbformat": 4,
 "nbformat_minor": 4
}
