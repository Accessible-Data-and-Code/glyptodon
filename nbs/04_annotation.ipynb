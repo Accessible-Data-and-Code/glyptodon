{
 "cells": [
  {
   "cell_type": "markdown",
   "metadata": {},
   "source": [
    "# annotation\n",
    "\n",
    "> This module contains code for the annotation tab of the application"
   ]
  },
  {
   "cell_type": "code",
   "execution_count": 1,
   "metadata": {},
   "outputs": [],
   "source": [
    "#| default_exp annotation"
   ]
  },
  {
   "cell_type": "code",
   "execution_count": 2,
   "metadata": {},
   "outputs": [],
   "source": [
    "#| hide\n",
    "from nbdev.showdoc import *"
   ]
  },
  {
   "cell_type": "markdown",
   "metadata": {},
   "source": [
    "These are the relevant library calls to build out the UI and the calls to the model in order to set up the manuscript selection buttons."
   ]
  },
  {
   "cell_type": "code",
   "execution_count": 3,
   "metadata": {},
   "outputs": [],
   "source": [
    "#| hide\n",
    "# This library is only for testing the layout. It does not need to be called extraneously\n",
    "import dash"
   ]
  },
  {
   "cell_type": "code",
   "execution_count": 4,
   "metadata": {
    "tags": []
   },
   "outputs": [],
   "source": [
    "#| export\n",
    "from dash import dcc, html\n",
    "import dash_bootstrap_components as dbc\n",
    "import plotly.express as px\n",
    "import cv2"
   ]
  },
  {
   "cell_type": "markdown",
   "metadata": {},
   "source": [
    "## createAnnotationInfo\n",
    "\n",
    "Creates an info pane"
   ]
  },
  {
   "cell_type": "code",
   "execution_count": 5,
   "metadata": {},
   "outputs": [],
   "source": [
    "#| export\n",
    "def createAnnotationInfo():\n",
    "    return dbc.Card(\n",
    "        dbc.CardBody(\n",
    "            [\n",
    "                html.H1(\"Annotation\"),\n",
    "                html.P(\n",
    "                    \"This page allows you to annotate a manuscript page with Lines and Boxes. \"\n",
    "                    \"For each line of a manuscript, draw a line through the text. \"\n",
    "                    \"For each word of a manuscript, draw a box around the word. \"\n",
    "                    \"Once you have drawn all the shapes, click the Save Shapes button. \"\n",
    "                ),\n",
    "                html.Br(),\n",
    "                html.P(\n",
    "                    \"After the shapes have been saved, the text editing pane on the right will allow you to transcribe the manuscript with the annotations. \"\n",
    "                    \"For each line you draw, numbers will appear in the text area. \"\n",
    "                    \"Leaving a space after each line number, write the words corresponding to that line inside the area. \"\n",
    "                    \"Once you have finished the transcription of a page, click the Save Transcription button. \"\n",
    "                    \"You can now select a different page to annotate and transcribe.\"\n",
    "                )\n",
    "            ]\n",
    "        )\n",
    "    )"
   ]
  },
  {
   "cell_type": "code",
   "execution_count": 1,
   "metadata": {
    "tags": []
   },
   "outputs": [
    {
     "ename": "NameError",
     "evalue": "name 'dash' is not defined",
     "output_type": "error",
     "traceback": [
      "\u001b[0;31m---------------------------------------------------------------------------\u001b[0m",
      "\u001b[0;31mNameError\u001b[0m                                 Traceback (most recent call last)",
      "Cell \u001b[0;32mIn[1], line 2\u001b[0m\n\u001b[1;32m      1\u001b[0m \u001b[38;5;66;03m#| hide\u001b[39;00m\n\u001b[0;32m----> 2\u001b[0m app \u001b[38;5;241m=\u001b[39m \u001b[43mdash\u001b[49m\u001b[38;5;241m.\u001b[39mDash(\n\u001b[1;32m      3\u001b[0m     external_stylesheets\u001b[38;5;241m=\u001b[39m[dbc\u001b[38;5;241m.\u001b[39mthemes\u001b[38;5;241m.\u001b[39mBOOTSTRAP]\n\u001b[1;32m      4\u001b[0m )\n\u001b[1;32m      6\u001b[0m app\u001b[38;5;241m.\u001b[39mlayout \u001b[38;5;241m=\u001b[39m html\u001b[38;5;241m.\u001b[39mDiv(\n\u001b[1;32m      7\u001b[0m     createAnnotationInfo()\n\u001b[1;32m      8\u001b[0m )\n\u001b[1;32m     10\u001b[0m \u001b[38;5;28;01mif\u001b[39;00m \u001b[38;5;18m__name__\u001b[39m \u001b[38;5;241m==\u001b[39m \u001b[38;5;124m\"\u001b[39m\u001b[38;5;124m__main__\u001b[39m\u001b[38;5;124m\"\u001b[39m:\n",
      "\u001b[0;31mNameError\u001b[0m: name 'dash' is not defined"
     ]
    }
   ],
   "source": [
    "#| hide\n",
    "app = dash.Dash(\n",
    "    external_stylesheets=[dbc.themes.BOOTSTRAP]\n",
    ")\n",
    "\n",
    "app.layout = html.Div(\n",
    "    createAnnotationInfo()\n",
    ")\n",
    "\n",
    "if __name__ == \"__main__\":\n",
    "    app.run(debug=True)"
   ]
  },
  {
   "cell_type": "markdown",
   "metadata": {},
   "source": [
    "## createAnnotationTextArea\n",
    "\n",
    "This creates a ```Texarea``` object. Without changing some of the JavaScript code, the ```Textarea``` object does not have the ability to display line numbers."
   ]
  },
  {
   "cell_type": "code",
   "execution_count": 6,
   "metadata": {
    "tags": []
   },
   "outputs": [],
   "source": [
    "#| export\n",
    "def createAnnotationTextArea():\n",
    "    return dbc.Textarea(id=\"annotation-text-area\",value=\"Enter transcription text here!\",style={\"width\":\"100%\",\"height\":285})"
   ]
  },
  {
   "cell_type": "raw",
   "metadata": {
    "tags": []
   },
   "source": [
    "#| hide\n",
    "app = dash.Dash(\n",
    "    external_stylesheets=[dbc.themes.BOOTSTRAP]\n",
    ")\n",
    "\n",
    "app.layout = html.Div(\n",
    "    [\n",
    "        createAnnotationTextArea()\n",
    "    ]\n",
    ")\n",
    "\n",
    "if __name__ == \"__main__\":\n",
    "    app.run(debug=True)"
   ]
  },
  {
   "cell_type": "markdown",
   "metadata": {},
   "source": [
    "## createPageSelector\n",
    "\n",
    "For any manuscript that is in use, it is not unexpected for there to be multiple pages. In the case that there are multiple pages, it would be good for users to be able to select them. To that end, this function creates a [```Dropdown```](https://dash.plotly.com/dash-core-components/dropdown) object. By the nature of this application, the ```options``` will have to be dynamically assigned during run time."
   ]
  },
  {
   "cell_type": "code",
   "execution_count": 7,
   "metadata": {
    "tags": []
   },
   "outputs": [],
   "source": [
    "#| export\n",
    "def createPageSelector():\n",
    "    return dcc.Dropdown(id=\"page-selector\")"
   ]
  },
  {
   "cell_type": "raw",
   "metadata": {
    "tags": []
   },
   "source": [
    "#| hide\n",
    "test = createPageSelector()\n",
    "test.options = ['a','b','c']\n",
    "\n",
    "test"
   ]
  },
  {
   "cell_type": "markdown",
   "metadata": {},
   "source": [
    "## createSaveShapes\n",
    "\n",
    "In my testing, I found that trying to keep the ```BBox``` and ```Line``` classes automatically saving to a ```csv``` was problematic. It used enough computational resources to be frustrating and required quick algorithms to parse a dictionary into the desired format that, by all accounts, would take a time to execute of searching the dictionary (so $D$ elements) times the amount of time to sort the lines ($L$ elements) times the amount of time to sort the bboxes on two axes ($B^2$), leading to just enough resources being used to take a little time and all of it being run through the Python-Dash-JS pipeline just made me worry that computers with lower specs would have a difficult time working through it.\n",
    "\n",
    "This button is to be called in order to save the current shapes on the annotation figure."
   ]
  },
  {
   "cell_type": "code",
   "execution_count": 8,
   "metadata": {},
   "outputs": [],
   "source": [
    "#| export\n",
    "def createSaveShapes():\n",
    "    return dbc.Button(\"Save Shapes\", color=\"info\", id=\"save-shapes\")"
   ]
  },
  {
   "cell_type": "markdown",
   "metadata": {},
   "source": [
    "## createSaveAnnotation\n",
    "\n",
    "Similar to the motivation to the ```createSaveShapes``` function, this is necessary in order to make sure to only take the state of the annotation figure and use it for adding the annotation to the BBox class before writing the classes to memory."
   ]
  },
  {
   "cell_type": "code",
   "execution_count": 9,
   "metadata": {},
   "outputs": [],
   "source": [
    "#| export\n",
    "def createSaveAnnotation():\n",
    "    return dbc.Button(\"Save Transcription\", color=\"info\", id=\"save-annotation\")"
   ]
  },
  {
   "cell_type": "markdown",
   "metadata": {},
   "source": [
    "## createNextTab\n",
    "\n",
    "To keep users able to move on to the next tab without using the tab object, this button is created. It's not a complicated button."
   ]
  },
  {
   "cell_type": "code",
   "execution_count": 10,
   "metadata": {},
   "outputs": [],
   "source": [
    "#| export\n",
    "def createNextTab():\n",
    "    return dbc.Button(\"Next Tab\", color=\"primary\", id=\"next-tab\")"
   ]
  },
  {
   "cell_type": "markdown",
   "metadata": {},
   "source": [
    "## createAnnotationFigure\n",
    "\n",
    "The heart of this program is right here. This is how boxes will be drawn. In order to do this, we will use the [```Imshow```](https://plotly.com/python/imshow/) chart from the ```Plotly``` library. There are [ways](https://dash.plotly.com/annotations) of linking this figure into the application. Fortunately or unfortunately, it is not possible to keep one plot object with an image inside it. Instead, the figure needs to be made again and again for each image fed into it. Then, this plot is wrapped in the ```Graph``` object from the ```Dash``` library to be given an ```id``` for callback features. This wrapping needs to be handled in the ```Dash``` app itself, not the view calls.\n",
    "\n",
    "This function takes in a pathway to a manuscript image as a string and returns a ```Plotly``` figure.\n",
    "\n",
    "Due to some quirks of the ```cv2``` library, using ```cv2.imread()``` will return an image with BGR ordering of color channels, not RGB ordering of color channels. Computer monitors use the RGB color scheme as a way of representing colors for display:\n",
    "\n",
    "<img\n",
    "     style = \"display:block;\n",
    "              margin-left:auto;\n",
    "              margin-right: auto;\n",
    "              width:20%;\"\n",
    "     src = \"https://upload.wikimedia.org/wikipedia/commons/9/97/RGB_color_wheel_pixel_30.svg\"\n",
    "/>\n",
    "\n",
    "In an LED monitor, every pixel is made of a red, blue, and green LED that will show different intensities of colored light. Combining these pixels together into one system allows us to display images, movies, videos, etc... by coordingating the display of colors for each LED in each pixel of a monitor. What does this have to do with images? In mathematical terms, we might say that an image $I$ will have scalar intensities associated to three different coordinates. The first are the traditional $(x,y)$ Cartesian coordinate structure, but the third coordinate is color. We might say then that an individual LED at some position on the monitor will display the value $I(x_0,y_0,c)$ at the LED (where $c$ is theoretically the associated color channel). Most monitors use RGB (where red is the first index, green is the second index, and green is the third index), but the ```cv2``` library uses the BGR scheme. It is essentially the same as the RGB scheme, but a computer monitor will display red as if it is blue and blue as if it is red, distorting the image. To fix this, this function automatically reverses the ordering of BGR to RGB, hence the slicing."
   ]
  },
  {
   "cell_type": "code",
   "execution_count": 11,
   "metadata": {
    "tags": []
   },
   "outputs": [],
   "source": [
    "#| export\n",
    "def createAnnotationFigure(path):\n",
    "    img = cv2.imread(path)\n",
    "    # This reorders the color channels (the first two indices relate to the intensity values of individual colors while the last index indicates what\n",
    "    img = img[:,:,::-1]\n",
    "    fig = px.imshow(img)\n",
    "    fig.update_layout(dragmode='drawrect',\n",
    "                  # style of new shapes\n",
    "                  newshape=dict(line_color='grey',\n",
    "                                opacity=0.6))\n",
    "    return fig"
   ]
  },
  {
   "cell_type": "raw",
   "metadata": {
    "tags": []
   },
   "source": [
    "#| hide\n",
    "from time import perf_counter\n",
    "tic = perf_counter()\n",
    "fig = createAnnotationFigure('glyptodon/manuscripts/stvrnktmnstrygrkcllctnn.53/images/15_01_0053_0006_f_3r_res.png')\n",
    "toc = perf_counter()\n",
    "print(toc-tic)\n",
    "\n",
    "tic = perf_counter()\n",
    "fig.show(config={'modeBarButtonsToAdd':['drawline','drawrect','eraseshape']})\n",
    "toc = perf_counter()\n",
    "print(toc-tic)"
   ]
  },
  {
   "cell_type": "raw",
   "metadata": {
    "tags": []
   },
   "source": [
    "#| hide\n",
    "pathOptions = [\n",
    "    \"glyptodon/manuscripts/stvrnktmnstrygrkcllctnn.53/images/15_01_0053_0011_f_5v_res.png\",\n",
    "    \"glyptodon/manuscripts/stvrnktmnstrygrkcllctnn.53/images/15_01_0053_0006_f_3r_res.png\",\n",
    "]\n",
    "config = {\"modeBarButtonsToAdd\": [\"drawline\", \"drawrect\", \"eraseshape\"]}\n",
    "\n",
    "app = Dash(__name__)\n",
    "app.layout = html.Div(\n",
    "    [\n",
    "        dcc.Graph(\n",
    "            id=\"test-image\",\n",
    "            figure=createAnnotationFigure(pathOptions[1]),\n",
    "            config=config,\n",
    "            style={\n",
    "                \"height\": 900,\n",
    "                \"width\": 800,\n",
    "            },\n",
    "        )\n",
    "    ]\n",
    ")\n",
    "\n",
    "if __name__ == \"__main__\":\n",
    "    app.run()"
   ]
  },
  {
   "cell_type": "markdown",
   "metadata": {},
   "source": [
    "## createFigureLayout\n",
    "\n",
    "This creates the layout for the figure"
   ]
  },
  {
   "cell_type": "code",
   "execution_count": 12,
   "metadata": {
    "tags": []
   },
   "outputs": [],
   "source": [
    "#| export\n",
    "def createFigureLayout():\n",
    "    return dbc.Card(\n",
    "        [\n",
    "            createPageSelector(),\n",
    "            dcc.Graph(\n",
    "                id=\"annotation-figure\",\n",
    "                config={\n",
    "                    \"modeBarButtonsToAdd\": [\n",
    "                        \"drawline\",\n",
    "                        \"drawrect\",\n",
    "                        \"eraseshape\",\n",
    "                    ]\n",
    "                },\n",
    "            ),\n",
    "            createSaveShapes(),\n",
    "        ]\n",
    "    )"
   ]
  },
  {
   "cell_type": "raw",
   "metadata": {
    "tags": []
   },
   "source": [
    "#| hide\n",
    "app = dash.Dash(\n",
    "    external_stylesheets=[dbc.themes.BOOTSTRAP]\n",
    ")\n",
    "app.layout = createFigureLayout()\n",
    "\n",
    "if __name__ == \"__main__\":\n",
    "    app.run()"
   ]
  },
  {
   "cell_type": "markdown",
   "metadata": {},
   "source": [
    "## createTextareaLayout\n",
    "\n",
    "This creates the layout for the textarea"
   ]
  },
  {
   "cell_type": "code",
   "execution_count": 13,
   "metadata": {
    "tags": []
   },
   "outputs": [],
   "source": [
    "#| export\n",
    "def createTextareaLayout():\n",
    "    return dbc.Card([createAnnotationTextArea(), createSaveAnnotation()])"
   ]
  },
  {
   "cell_type": "raw",
   "metadata": {
    "tags": []
   },
   "source": [
    "#| hide\n",
    "app = dash.Dash(\n",
    "    external_stylesheets=[dbc.themes.BOOTSTRAP]\n",
    ")\n",
    "app.layout = createTextareaLayout()\n",
    "\n",
    "if __name__ == \"__main__\":\n",
    "    app.run()"
   ]
  },
  {
   "cell_type": "markdown",
   "metadata": {},
   "source": [
    "## createAnnotationLayout\n",
    "\n",
    "Does what it says on the tin"
   ]
  },
  {
   "cell_type": "code",
   "execution_count": 21,
   "metadata": {
    "tags": []
   },
   "outputs": [],
   "source": [
    "#| export\n",
    "def createAnnotationLayout():\n",
    "    return html.Div(\n",
    "        [\n",
    "            createAnnotationInfo(),\n",
    "            html.Br(),\n",
    "            dbc.Card(\n",
    "                [\n",
    "                    dbc.Container(\n",
    "                        dbc.Row(\n",
    "                            children=[\n",
    "                                dbc.Col(createFigureLayout(), md=7),\n",
    "                                dbc.Col(createTextareaLayout(), md=5),\n",
    "                            ]\n",
    "                        )\n",
    "                    ),\n",
    "                    createNextTab(),\n",
    "                ]\n",
    "            ),\n",
    "        ]\n",
    "    )"
   ]
  },
  {
   "cell_type": "code",
   "execution_count": 22,
   "metadata": {
    "tags": []
   },
   "outputs": [
    {
     "data": {
      "text/html": [
       "\n",
       "        <iframe\n",
       "            width=\"100%\"\n",
       "            height=\"650\"\n",
       "            src=\"http://127.0.0.1:8050/\"\n",
       "            frameborder=\"0\"\n",
       "            allowfullscreen\n",
       "            \n",
       "        ></iframe>\n",
       "        "
      ],
      "text/plain": [
       "<IPython.lib.display.IFrame at 0x7f75283174d0>"
      ]
     },
     "metadata": {},
     "output_type": "display_data"
    }
   ],
   "source": [
    "#| hide\n",
    "app = dash.Dash(\n",
    "    external_stylesheets=[dbc.themes.BOOTSTRAP]\n",
    ")\n",
    "app.layout = createAnnotationLayout()\n",
    "\n",
    "if __name__ == \"__main__\":\n",
    "    app.run()"
   ]
  },
  {
   "cell_type": "code",
   "execution_count": 16,
   "metadata": {},
   "outputs": [],
   "source": [
    "#| hide\n",
    "import nbdev\n",
    "\n",
    "nbdev.nbdev_export()"
   ]
  }
 ],
 "metadata": {
  "kernelspec": {
   "display_name": "Python 3 (ipykernel)",
   "language": "python",
   "name": "python3"
  },
  "language_info": {
   "codemirror_mode": {
    "name": "ipython",
    "version": 3
   },
   "file_extension": ".py",
   "mimetype": "text/x-python",
   "name": "python",
   "nbconvert_exporter": "python",
   "pygments_lexer": "ipython3",
   "version": "3.11.4"
  }
 },
 "nbformat": 4,
 "nbformat_minor": 4
}
