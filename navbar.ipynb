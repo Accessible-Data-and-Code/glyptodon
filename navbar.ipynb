{
 "cells": [
  {
   "cell_type": "markdown",
   "metadata": {},
   "source": [
    "# navbar\n",
    "\n",
    "> This module contains the necessary code for creating a navbar. This will be necessary for ```glyptodonApp```"
   ]
  },
  {
   "cell_type": "code",
   "execution_count": null,
   "metadata": {},
   "outputs": [],
   "source": [
    "#| default_exp navbar"
   ]
  },
  {
   "cell_type": "code",
   "execution_count": null,
   "metadata": {},
   "outputs": [],
   "source": [
    "#| hide\n",
    "from nbdev.showdoc import *"
   ]
  },
  {
   "cell_type": "markdown",
   "metadata": {},
   "source": [
    "The [```dash_bootstrap_components```](https://dash-bootstrap-components.opensource.faculty.ai/) library is used for styling purposes primarily and for the navbar in particular. This helps make the application cleaner and links well to documentation."
   ]
  },
  {
   "cell_type": "code",
   "execution_count": null,
   "metadata": {},
   "outputs": [],
   "source": [
    "#| export\n",
    "from dash import html\n",
    "import dash_bootstrap_components as dbc"
   ]
  },
  {
   "cell_type": "markdown",
   "metadata": {},
   "source": [
    "### githubIcon\n",
    "\n",
    "This function call creates a clickable icon linked to the GitHub repository for this application. It is intended to be a child of the navbar created later."
   ]
  },
  {
   "cell_type": "code",
   "execution_count": null,
   "metadata": {},
   "outputs": [],
   "source": [
    "#| export\n",
    "def githubIcon():\n",
    "    githubIcon = dbc.NavItem(\n",
    "        dbc.NavLink(\n",
    "            [\n",
    "                html.I(className=\"fa-brands fa-github\"),\n",
    "                \" \"\n",
    "            ],\n",
    "            href=\"https://github.com/Accessible-Data-and-Code/glyptodon\",\n",
    "            target=\"_blank\"\n",
    "        )\n",
    "    )\n",
    "    \n",
    "    return githubIcon"
   ]
  },
  {
   "cell_type": "markdown",
   "metadata": {},
   "source": [
    "### dropdownMenu\n",
    "\n",
    "This function call returns a dropdown menu that indicates the accesible pages for the application."
   ]
  },
  {
   "cell_type": "code",
   "execution_count": null,
   "metadata": {},
   "outputs": [],
   "source": [
    "#| export\n",
    "def dropdownMenu():\n",
    "    dropdownMenu = dbc.DropdownMenu(\n",
    "        nav=True,\n",
    "        in_navbar=True,\n",
    "        label=\"Menu\",\n",
    "        align_end=True,\n",
    "        children=[\n",
    "            dbc.DropdownMenuItem(\"Home\", href='/'),\n",
    "            dbc.DropdownMenuItem(divider=True),\n",
    "            dbc.DropdownMenuItem(\"1: Selection\", href='/selection'),\n",
    "            dbc.DropdownMenuItem(\"2: Information\", href='/information'),\n",
    "            dbc.DropdownMenuItem(\"3: Annotation\", href='/annotation'),\n",
    "            dbc.DropdownMenuItem(\"4: Export\", href='/export'),\n",
    "        ],\n",
    "    )\n",
    "    return dropdownMenu"
   ]
  },
  {
   "cell_type": "markdown",
   "metadata": {},
   "source": [
    "## createNavbar\n",
    "\n",
    "This function call is used to create a navbar for navigation purposes. It makes it much easier to create a navigable application as well as being a recognizable UI element that contains much useful information. If app complexity continues to grow, the Navbar tool is more useful then other things. It is made up of smaller function calls that create children for the navbar. These are implemented above."
   ]
  },
  {
   "cell_type": "code",
   "execution_count": null,
   "metadata": {},
   "outputs": [],
   "source": [
    "#| export\n",
    "def createNavbar():\n",
    "    githubIcon = githubIcon()\n",
    "    dropdownMenu = dropdownMenu()\n",
    "    \n",
    "    navbar = dbc.NavbarSimple(\n",
    "        children=[\n",
    "            githubIcon,\n",
    "            dropdownMenu\n",
    "        ],\n",
    "        brand='Home',\n",
    "        brand_href=\"/\",\n",
    "        # sticky=\"top\",  # Uncomment if you want the navbar to always appear at the top on scroll.\n",
    "        color=\"Primary\",  # Change this to change color of the navbar e.g. \"primary\", \"secondary\" etc.\n",
    "        dark=False,  # Change this to change color of text within the navbar (False for dark text)\n",
    "    )\n",
    "\n",
    "    return navbar"
   ]
  },
  {
   "cell_type": "code",
   "execution_count": null,
   "metadata": {},
   "outputs": [],
   "source": [
    "#| hide\n",
    "import nbdev; nbdev.nbdev_export()"
   ]
  }
 ],
 "metadata": {
  "kernelspec": {
   "display_name": "python3",
   "language": "python",
   "name": "python3"
  }
 },
 "nbformat": 4,
 "nbformat_minor": 4
}
