{
 "cells": [
  {
   "cell_type": "markdown",
   "metadata": {},
   "source": [
    "# Widget Calls\n",
    "\n",
    "> To have a unified color scheme and style throughout this application, having specific widgets for use is incredibly helpful. Essentially, it wraps certain widget calls from ipywidgets so that it is easier to use consistently throughout several different tabs of the application."
   ]
  },
  {
   "cell_type": "code",
   "execution_count": 7,
   "metadata": {
    "tags": []
   },
   "outputs": [],
   "source": [
    "#| default_exp widgetCalls"
   ]
  },
  {
   "cell_type": "code",
   "execution_count": 4,
   "metadata": {
    "tags": []
   },
   "outputs": [],
   "source": [
    "#| hide\n",
    "from nbdev.showdoc import *"
   ]
  },
  {
   "cell_type": "markdown",
   "metadata": {},
   "source": [
    "## Buttons\n",
    "\n",
    "These buttons are styled in different colors and have sizes automatically defined by the text inside and the container the buttons are in."
   ]
  },
  {
   "cell_type": "code",
   "execution_count": 14,
   "metadata": {},
   "outputs": [],
   "source": [
    "#| export\n",
    "\n",
    "import ipywidgets as widgets\n",
    "\n",
    "def orangeButton(text):\n",
    "    return widgets.Button(description = text,\n",
    "                          button_style = 'warning',\n",
    "                          layout = widgets.Layout(height = '50px',\n",
    "                                                  width = '200px'\n",
    "                                                 )\n",
    "                         )\n",
    "\n",
    "def blueButton(text):\n",
    "    return widgets.Button(description = text,\n",
    "                          button_style = 'primary',\n",
    "                          layout = widgets.Layout(height = '50px',\n",
    "                                                  width = '200px'\n",
    "                                                 )\n",
    "                         )\n",
    "\n",
    "def tealButton(text):\n",
    "    return widgets.Button(description = text,\n",
    "                          button_style = 'info',\n",
    "                          layout = widgets.Layout(height = '50px',\n",
    "                                                  width = '200px'\n",
    "                                                 )\n",
    "                         )"
   ]
  },
  {
   "cell_type": "code",
   "execution_count": 15,
   "metadata": {
    "tags": []
   },
   "outputs": [
    {
     "data": {
      "application/vnd.jupyter.widget-view+json": {
       "model_id": "5dbcf9b44c4d4ed88d1fd91d7ba924a3",
       "version_major": 2,
       "version_minor": 0
      },
      "text/plain": [
       "HBox(children=(Button(button_style='warning', description='orange', layout=Layout(height='50px', width='200px'…"
      ]
     },
     "execution_count": 15,
     "metadata": {},
     "output_type": "execute_result"
    }
   ],
   "source": [
    "#| hide\n",
    "\n",
    "# This is testing the buttons to make sure that they work\n",
    "widgets.HBox(children = [orangeButton('orange'), blueButton('blue'), tealButton('teal')])"
   ]
  },
  {
   "cell_type": "markdown",
   "metadata": {},
   "source": [
    "## Text\n",
    "\n",
    "For managing our metadata, we need to have widgets that can contain text of different types."
   ]
  },
  {
   "cell_type": "code",
   "execution_count": null,
   "metadata": {},
   "outputs": [],
   "source": [
    "def text(info):\n",
    "    return widgets.Text(description =info,\n",
    "                        placeholder = info,\n",
    "                        layout = widgets.Layout(height = 'auto;,\n",
    "                                                width = 'auto',\n",
    "                                                align_items = 'center'\n",
    "                                               )\n",
    "                       )"
   ]
  },
  {
   "cell_type": "code",
   "execution_count": 6,
   "metadata": {},
   "outputs": [],
   "source": [
    "#| hide\n",
    "import nbdev; nbdev.nbdev_export()"
   ]
  }
 ],
 "metadata": {
  "kernelspec": {
   "display_name": "Python 3 (ipykernel)",
   "language": "python",
   "name": "python3"
  },
  "language_info": {
   "codemirror_mode": {
    "name": "ipython",
    "version": 3
   },
   "file_extension": ".py",
   "mimetype": "text/x-python",
   "name": "python",
   "nbconvert_exporter": "python",
   "pygments_lexer": "ipython3",
   "version": "3.11.4"
  }
 },
 "nbformat": 4,
 "nbformat_minor": 4
}
